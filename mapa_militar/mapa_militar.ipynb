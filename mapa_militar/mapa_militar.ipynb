{
 "cells": [
  {
   "cell_type": "code",
   "execution_count": 1,
   "id": "ea6d2f00",
   "metadata": {},
   "outputs": [],
   "source": [
    "import pandas as pd\n",
    "import numpy as np"
   ]
  },
  {
   "cell_type": "code",
   "execution_count": null,
   "id": "54198778",
   "metadata": {},
   "outputs": [
    {
     "data": {
      "text/html": [
       "<div>\n",
       "<style scoped>\n",
       "    .dataframe tbody tr th:only-of-type {\n",
       "        vertical-align: middle;\n",
       "    }\n",
       "\n",
       "    .dataframe tbody tr th {\n",
       "        vertical-align: top;\n",
       "    }\n",
       "\n",
       "    .dataframe thead th {\n",
       "        text-align: right;\n",
       "    }\n",
       "</style>\n",
       "<table border=\"1\" class=\"dataframe\">\n",
       "  <thead>\n",
       "    <tr style=\"text-align: right;\">\n",
       "      <th></th>\n",
       "      <th>hoja</th>\n",
       "      <th>cuadricula</th>\n",
       "      <th>x</th>\n",
       "      <th>y</th>\n",
       "      <th>mapamilitar</th>\n",
       "    </tr>\n",
       "  </thead>\n",
       "  <tbody>\n",
       "    <tr>\n",
       "      <th>0</th>\n",
       "      <td>101</td>\n",
       "      <td>H08</td>\n",
       "      <td>-8.896420</td>\n",
       "      <td>43.294854</td>\n",
       "      <td>0101H08</td>\n",
       "    </tr>\n",
       "    <tr>\n",
       "      <th>1</th>\n",
       "      <td>101</td>\n",
       "      <td>H09</td>\n",
       "      <td>-8.826339</td>\n",
       "      <td>43.312093</td>\n",
       "      <td>0101H09</td>\n",
       "    </tr>\n",
       "    <tr>\n",
       "      <th>2</th>\n",
       "      <td>101</td>\n",
       "      <td>H10</td>\n",
       "      <td>-8.691378</td>\n",
       "      <td>43.277655</td>\n",
       "      <td>0101H10</td>\n",
       "    </tr>\n",
       "    <tr>\n",
       "      <th>3</th>\n",
       "      <td>101</td>\n",
       "      <td>H11</td>\n",
       "      <td>-8.568227</td>\n",
       "      <td>43.287362</td>\n",
       "      <td>0101H11</td>\n",
       "    </tr>\n",
       "    <tr>\n",
       "      <th>4</th>\n",
       "      <td>101</td>\n",
       "      <td>I06</td>\n",
       "      <td>-9.143557</td>\n",
       "      <td>43.186897</td>\n",
       "      <td>0101I06</td>\n",
       "    </tr>\n",
       "  </tbody>\n",
       "</table>\n",
       "</div>"
      ],
      "text/plain": [
       "   hoja cuadricula         x          y mapamilitar\n",
       "0   101        H08 -8.896420  43.294854     0101H08\n",
       "1   101        H09 -8.826339  43.312093     0101H09\n",
       "2   101        H10 -8.691378  43.277655     0101H10\n",
       "3   101        H11 -8.568227  43.287362     0101H11\n",
       "4   101        I06 -9.143557  43.186897     0101I06"
      ]
     },
     "execution_count": 2,
     "metadata": {},
     "output_type": "execute_result"
    }
   ],
   "source": [
    "mapa_militar = pd.read_excel('mapa_militar.xlsx')\n",
    "mapa_militar.head()"
   ]
  },
  {
   "cell_type": "code",
   "execution_count": null,
   "id": "d4c15ba0",
   "metadata": {},
   "outputs": [
    {
     "name": "stdout",
     "output_type": "stream",
     "text": [
      "     mapamilitar         x          y\n",
      "0        0101H08 -8.896420  43.294854\n",
      "1        0101H09 -8.826339  43.312093\n",
      "2        0101H10 -8.691378  43.277655\n",
      "3        0101H11 -8.568227  43.287362\n",
      "4        0101I06 -9.143557  43.186897\n",
      "...          ...       ...        ...\n",
      "5281     1103I06  4.148231  39.870080\n",
      "5282     1103I07  4.252808  39.882383\n",
      "5283     1103I08  4.296741  39.905638\n",
      "5284     1103J07  4.239282  39.819472\n",
      "5285     1103J08  4.294744  39.816775\n",
      "\n",
      "[5286 rows x 3 columns]\n"
     ]
    }
   ],
   "source": [
    "# Agrupamos por codigo de columna de mapa militar donde hay registros duplicados\n",
    "mapa_militar = mapa_militar.groupby('mapamilitar', as_index=False).agg({\n",
    "    'x': 'mean',\n",
    "    'y': 'mean'\n",
    "})\n",
    "\n",
    "# Lo exportamos\n",
    "mapa_militar.to_excel('mapa_militar_mod.xlsx', index=False)\n",
    "\n",
    "# Mostrar el resultado\n",
    "print(mapa_militar)"
   ]
  },
  {
   "cell_type": "code",
   "execution_count": null,
   "id": "1c3da338",
   "metadata": {},
   "outputs": [],
   "source": []
  }
 ],
 "metadata": {
  "kernelspec": {
   "display_name": "Python 3 (ipykernel)",
   "language": "python",
   "name": "python3"
  },
  "language_info": {
   "codemirror_mode": {
    "name": "ipython",
    "version": 3
   },
   "file_extension": ".py",
   "mimetype": "text/x-python",
   "name": "python",
   "nbconvert_exporter": "python",
   "pygments_lexer": "ipython3",
   "version": "3.10.15"
  }
 },
 "nbformat": 4,
 "nbformat_minor": 5
}
