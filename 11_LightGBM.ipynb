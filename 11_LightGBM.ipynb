{
 "cells": [
  {
   "cell_type": "code",
   "execution_count": 1,
   "id": "3af5c124-b961-4810-a205-7fa4955e2aaf",
   "metadata": {},
   "outputs": [],
   "source": [
    "import pandas as pd\n",
    "import numpy as np\n",
    "import seaborn as sns\n",
    "import matplotlib.pyplot as plt\n",
    "import tensorflow as tf\n",
    "import pickle\n",
    "import lightgbm as lgb\n",
    "import optuna\n",
    "import time\n",
    "from imblearn.under_sampling import TomekLinks\n",
    "from imblearn.under_sampling import EditedNearestNeighbours\n",
    "from imblearn.under_sampling import RandomUnderSampler\n",
    "from imblearn.over_sampling import RandomOverSampler\n",
    "from sklearn.preprocessing import OneHotEncoder, MinMaxScaler\n",
    "from sklearn.preprocessing import label_binarize\n",
    "from sklearn.model_selection import train_test_split\n",
    "from sklearn.metrics import classification_report, accuracy_score, f1_score\n",
    "from sklearn.utils import resample\n",
    "from sklearn.metrics import confusion_matrix\n",
    "from sklearn.metrics import roc_curve, auc\n",
    "from collections import Counter\n",
    "from sklearn.compose import ColumnTransformer\n",
    "from sklearn.pipeline import Pipeline\n",
    "import warnings\n",
    "warnings.filterwarnings('ignore')"
   ]
  },
  {
   "cell_type": "code",
   "execution_count": 2,
   "id": "1497c744-82e5-418e-ba24-1f4b1c73b3b8",
   "metadata": {},
   "outputs": [
    {
     "data": {
      "text/html": [
       "<div>\n",
       "<style scoped>\n",
       "    .dataframe tbody tr th:only-of-type {\n",
       "        vertical-align: middle;\n",
       "    }\n",
       "\n",
       "    .dataframe tbody tr th {\n",
       "        vertical-align: top;\n",
       "    }\n",
       "\n",
       "    .dataframe thead th {\n",
       "        text-align: right;\n",
       "    }\n",
       "</style>\n",
       "<table border=\"1\" class=\"dataframe\">\n",
       "  <thead>\n",
       "    <tr style=\"text-align: right;\">\n",
       "      <th></th>\n",
       "      <th>parte</th>\n",
       "      <th>año</th>\n",
       "      <th>cod_com</th>\n",
       "      <th>cod_prov</th>\n",
       "      <th>probignicion</th>\n",
       "      <th>detectadopor</th>\n",
       "      <th>fecha</th>\n",
       "      <th>combustible</th>\n",
       "      <th>fuego</th>\n",
       "      <th>lugar</th>\n",
       "      <th>...</th>\n",
       "      <th>velmedia</th>\n",
       "      <th>racha</th>\n",
       "      <th>sol</th>\n",
       "      <th>hrmedia</th>\n",
       "      <th>fwi</th>\n",
       "      <th>denpoblacion</th>\n",
       "      <th>denincendios</th>\n",
       "      <th>horario</th>\n",
       "      <th>areaquemada</th>\n",
       "      <th>claseincendio</th>\n",
       "    </tr>\n",
       "  </thead>\n",
       "  <tbody>\n",
       "    <tr>\n",
       "      <th>0</th>\n",
       "      <td>1974020249</td>\n",
       "      <td>1974</td>\n",
       "      <td>11</td>\n",
       "      <td>2</td>\n",
       "      <td>0.0</td>\n",
       "      <td>otros</td>\n",
       "      <td>1974-04-25</td>\n",
       "      <td>bosques</td>\n",
       "      <td>sup_cop</td>\n",
       "      <td>otros</td>\n",
       "      <td>...</td>\n",
       "      <td>6.1</td>\n",
       "      <td>11.900000</td>\n",
       "      <td>9.5</td>\n",
       "      <td>56.0</td>\n",
       "      <td>12.101361</td>\n",
       "      <td>0.041339</td>\n",
       "      <td>0.000020</td>\n",
       "      <td>Tarde</td>\n",
       "      <td>8.0</td>\n",
       "      <td>incendio</td>\n",
       "    </tr>\n",
       "    <tr>\n",
       "      <th>1</th>\n",
       "      <td>1974020374</td>\n",
       "      <td>1974</td>\n",
       "      <td>11</td>\n",
       "      <td>2</td>\n",
       "      <td>0.0</td>\n",
       "      <td>otros</td>\n",
       "      <td>1974-05-19</td>\n",
       "      <td>bosques</td>\n",
       "      <td>sup_cop</td>\n",
       "      <td>excursionistas</td>\n",
       "      <td>...</td>\n",
       "      <td>6.4</td>\n",
       "      <td>13.100000</td>\n",
       "      <td>10.9</td>\n",
       "      <td>53.0</td>\n",
       "      <td>69.039001</td>\n",
       "      <td>0.334612</td>\n",
       "      <td>0.000013</td>\n",
       "      <td>Tarde</td>\n",
       "      <td>0.3</td>\n",
       "      <td>conato</td>\n",
       "    </tr>\n",
       "    <tr>\n",
       "      <th>2</th>\n",
       "      <td>1974020459</td>\n",
       "      <td>1974</td>\n",
       "      <td>11</td>\n",
       "      <td>46</td>\n",
       "      <td>0.0</td>\n",
       "      <td>agente_forestal</td>\n",
       "      <td>1974-06-11</td>\n",
       "      <td>bosques</td>\n",
       "      <td>sup_cop</td>\n",
       "      <td>otros</td>\n",
       "      <td>...</td>\n",
       "      <td>3.6</td>\n",
       "      <td>11.100000</td>\n",
       "      <td>3.3</td>\n",
       "      <td>71.0</td>\n",
       "      <td>11.837668</td>\n",
       "      <td>0.084859</td>\n",
       "      <td>0.000022</td>\n",
       "      <td>Mañana</td>\n",
       "      <td>0.6</td>\n",
       "      <td>conato</td>\n",
       "    </tr>\n",
       "    <tr>\n",
       "      <th>3</th>\n",
       "      <td>1974022274</td>\n",
       "      <td>1974</td>\n",
       "      <td>11</td>\n",
       "      <td>2</td>\n",
       "      <td>0.0</td>\n",
       "      <td>otros</td>\n",
       "      <td>1974-09-11</td>\n",
       "      <td>bosques</td>\n",
       "      <td>sup_cop</td>\n",
       "      <td>autovia_carretera</td>\n",
       "      <td>...</td>\n",
       "      <td>5.0</td>\n",
       "      <td>7.116667</td>\n",
       "      <td>8.9</td>\n",
       "      <td>63.0</td>\n",
       "      <td>42.358257</td>\n",
       "      <td>0.139880</td>\n",
       "      <td>0.000123</td>\n",
       "      <td>Tarde</td>\n",
       "      <td>2.0</td>\n",
       "      <td>incendio</td>\n",
       "    </tr>\n",
       "    <tr>\n",
       "      <th>4</th>\n",
       "      <td>1974022457</td>\n",
       "      <td>1974</td>\n",
       "      <td>11</td>\n",
       "      <td>2</td>\n",
       "      <td>0.0</td>\n",
       "      <td>agente_forestal</td>\n",
       "      <td>1974-10-01</td>\n",
       "      <td>mat_bos</td>\n",
       "      <td>sup_cop</td>\n",
       "      <td>otros</td>\n",
       "      <td>...</td>\n",
       "      <td>4.7</td>\n",
       "      <td>14.400000</td>\n",
       "      <td>9.3</td>\n",
       "      <td>45.0</td>\n",
       "      <td>15.454229</td>\n",
       "      <td>0.035034</td>\n",
       "      <td>0.000068</td>\n",
       "      <td>Mañana</td>\n",
       "      <td>0.5</td>\n",
       "      <td>conato</td>\n",
       "    </tr>\n",
       "  </tbody>\n",
       "</table>\n",
       "<p>5 rows × 30 columns</p>\n",
       "</div>"
      ],
      "text/plain": [
       "        parte   año  cod_com  cod_prov  probignicion     detectadopor  \\\n",
       "0  1974020249  1974       11         2           0.0            otros   \n",
       "1  1974020374  1974       11         2           0.0            otros   \n",
       "2  1974020459  1974       11        46           0.0  agente_forestal   \n",
       "3  1974022274  1974       11         2           0.0            otros   \n",
       "4  1974022457  1974       11         2           0.0  agente_forestal   \n",
       "\n",
       "       fecha combustible    fuego              lugar  ... velmedia      racha  \\\n",
       "0 1974-04-25     bosques  sup_cop              otros  ...      6.1  11.900000   \n",
       "1 1974-05-19     bosques  sup_cop     excursionistas  ...      6.4  13.100000   \n",
       "2 1974-06-11     bosques  sup_cop              otros  ...      3.6  11.100000   \n",
       "3 1974-09-11     bosques  sup_cop  autovia_carretera  ...      5.0   7.116667   \n",
       "4 1974-10-01     mat_bos  sup_cop              otros  ...      4.7  14.400000   \n",
       "\n",
       "    sol  hrmedia        fwi  denpoblacion  denincendios  horario  areaquemada  \\\n",
       "0   9.5     56.0  12.101361      0.041339      0.000020    Tarde          8.0   \n",
       "1  10.9     53.0  69.039001      0.334612      0.000013    Tarde          0.3   \n",
       "2   3.3     71.0  11.837668      0.084859      0.000022   Mañana          0.6   \n",
       "3   8.9     63.0  42.358257      0.139880      0.000123    Tarde          2.0   \n",
       "4   9.3     45.0  15.454229      0.035034      0.000068   Mañana          0.5   \n",
       "\n",
       "   claseincendio  \n",
       "0       incendio  \n",
       "1         conato  \n",
       "2         conato  \n",
       "3       incendio  \n",
       "4         conato  \n",
       "\n",
       "[5 rows x 30 columns]"
      ]
     },
     "execution_count": 2,
     "metadata": {},
     "output_type": "execute_result"
    }
   ],
   "source": [
    "# Con este dataset extraeremos los datos de los incendios de 2017 para probar el modelo\n",
    "bdif = pd.read_excel(\"bdif_modelo_2017.xlsx\")\n",
    "bdif.head()"
   ]
  },
  {
   "cell_type": "markdown",
   "id": "d22cc4b9-b65c-4b98-9bf2-a47b5adbecc4",
   "metadata": {},
   "source": [
    "### Aplicamos mapeo de clases a la variable objetivo"
   ]
  },
  {
   "cell_type": "code",
   "execution_count": 3,
   "id": "6a4e0295-e5e0-4d64-b80f-8c5075065628",
   "metadata": {},
   "outputs": [
    {
     "data": {
      "text/plain": [
       "claseincendio\n",
       "0    339190\n",
       "1    237218\n",
       "2      2008\n",
       "Name: count, dtype: int64"
      ]
     },
     "execution_count": 3,
     "metadata": {},
     "output_type": "execute_result"
    }
   ],
   "source": [
    "mapeo_clases = {'conato': 0, 'incendio': 1, 'gif': 2}\n",
    "\n",
    "# Aplicar el mapeo a la columna 'claseincendio'\n",
    "bdif['claseincendio'] = bdif['claseincendio'].map(mapeo_clases)\n",
    "\n",
    "# Verificar el resultado\n",
    "bdif['claseincendio'].value_counts()"
   ]
  },
  {
   "cell_type": "code",
   "execution_count": 4,
   "id": "a565a47c-a3fa-47ab-95e8-fc28d26d5f47",
   "metadata": {},
   "outputs": [
    {
     "data": {
      "text/plain": [
       "(570372, 30)"
      ]
     },
     "execution_count": 4,
     "metadata": {},
     "output_type": "execute_result"
    }
   ],
   "source": [
    "# Separamos el dataset para usarlo para el entrenamiento del modelo\n",
    "bdif_modelo = bdif[bdif['año'] <= 2016]\n",
    "bdif_modelo.shape"
   ]
  },
  {
   "cell_type": "markdown",
   "id": "f9e523a1-74ad-4557-bd14-63fce310fe12",
   "metadata": {},
   "source": [
    "### Preprocesamiento de los datos"
   ]
  },
  {
   "cell_type": "code",
   "execution_count": 5,
   "id": "fc83fc85-67e4-479a-9838-6eb3712642e9",
   "metadata": {},
   "outputs": [
    {
     "data": {
      "text/html": [
       "<div>\n",
       "<style scoped>\n",
       "    .dataframe tbody tr th:only-of-type {\n",
       "        vertical-align: middle;\n",
       "    }\n",
       "\n",
       "    .dataframe tbody tr th {\n",
       "        vertical-align: top;\n",
       "    }\n",
       "\n",
       "    .dataframe thead th {\n",
       "        text-align: right;\n",
       "    }\n",
       "</style>\n",
       "<table border=\"1\" class=\"dataframe\">\n",
       "  <thead>\n",
       "    <tr style=\"text-align: right;\">\n",
       "      <th></th>\n",
       "      <th>probignicion</th>\n",
       "      <th>altitud</th>\n",
       "      <th>lon</th>\n",
       "      <th>lat</th>\n",
       "      <th>prec</th>\n",
       "      <th>tmax</th>\n",
       "      <th>dir</th>\n",
       "      <th>velmedia</th>\n",
       "      <th>racha</th>\n",
       "      <th>sol</th>\n",
       "      <th>...</th>\n",
       "      <th>mes_octubre</th>\n",
       "      <th>mes_septiembre</th>\n",
       "      <th>dia_festivo</th>\n",
       "      <th>dia_lab_vis_fes</th>\n",
       "      <th>dia_laborable</th>\n",
       "      <th>dia_sabado</th>\n",
       "      <th>horario_Madrugada</th>\n",
       "      <th>horario_Mañana</th>\n",
       "      <th>horario_Noche</th>\n",
       "      <th>horario_Tarde</th>\n",
       "    </tr>\n",
       "  </thead>\n",
       "  <tbody>\n",
       "    <tr>\n",
       "      <th>0</th>\n",
       "      <td>0.0</td>\n",
       "      <td>0.517710</td>\n",
       "      <td>0.703490</td>\n",
       "      <td>0.663822</td>\n",
       "      <td>0.0</td>\n",
       "      <td>0.462795</td>\n",
       "      <td>0.805556</td>\n",
       "      <td>0.194268</td>\n",
       "      <td>0.218750</td>\n",
       "      <td>0.637584</td>\n",
       "      <td>...</td>\n",
       "      <td>0</td>\n",
       "      <td>0</td>\n",
       "      <td>0</td>\n",
       "      <td>0</td>\n",
       "      <td>1</td>\n",
       "      <td>0</td>\n",
       "      <td>0</td>\n",
       "      <td>0</td>\n",
       "      <td>0</td>\n",
       "      <td>1</td>\n",
       "    </tr>\n",
       "    <tr>\n",
       "      <th>1</th>\n",
       "      <td>0.0</td>\n",
       "      <td>0.335891</td>\n",
       "      <td>0.731106</td>\n",
       "      <td>0.672918</td>\n",
       "      <td>0.0</td>\n",
       "      <td>0.637024</td>\n",
       "      <td>0.500000</td>\n",
       "      <td>0.203822</td>\n",
       "      <td>0.240809</td>\n",
       "      <td>0.731544</td>\n",
       "      <td>...</td>\n",
       "      <td>0</td>\n",
       "      <td>0</td>\n",
       "      <td>1</td>\n",
       "      <td>0</td>\n",
       "      <td>0</td>\n",
       "      <td>0</td>\n",
       "      <td>0</td>\n",
       "      <td>0</td>\n",
       "      <td>0</td>\n",
       "      <td>1</td>\n",
       "    </tr>\n",
       "    <tr>\n",
       "      <th>2</th>\n",
       "      <td>0.0</td>\n",
       "      <td>0.351240</td>\n",
       "      <td>0.760152</td>\n",
       "      <td>0.707177</td>\n",
       "      <td>0.0</td>\n",
       "      <td>0.571688</td>\n",
       "      <td>0.250000</td>\n",
       "      <td>0.114650</td>\n",
       "      <td>0.204044</td>\n",
       "      <td>0.221477</td>\n",
       "      <td>...</td>\n",
       "      <td>0</td>\n",
       "      <td>0</td>\n",
       "      <td>0</td>\n",
       "      <td>0</td>\n",
       "      <td>1</td>\n",
       "      <td>0</td>\n",
       "      <td>0</td>\n",
       "      <td>1</td>\n",
       "      <td>0</td>\n",
       "      <td>0</td>\n",
       "    </tr>\n",
       "    <tr>\n",
       "      <th>3</th>\n",
       "      <td>0.0</td>\n",
       "      <td>0.664109</td>\n",
       "      <td>0.699029</td>\n",
       "      <td>0.672143</td>\n",
       "      <td>0.0</td>\n",
       "      <td>0.662432</td>\n",
       "      <td>0.418981</td>\n",
       "      <td>0.159236</td>\n",
       "      <td>0.130821</td>\n",
       "      <td>0.597315</td>\n",
       "      <td>...</td>\n",
       "      <td>0</td>\n",
       "      <td>1</td>\n",
       "      <td>0</td>\n",
       "      <td>0</td>\n",
       "      <td>1</td>\n",
       "      <td>0</td>\n",
       "      <td>0</td>\n",
       "      <td>0</td>\n",
       "      <td>0</td>\n",
       "      <td>1</td>\n",
       "    </tr>\n",
       "    <tr>\n",
       "      <th>4</th>\n",
       "      <td>0.0</td>\n",
       "      <td>0.410272</td>\n",
       "      <td>0.714636</td>\n",
       "      <td>0.675420</td>\n",
       "      <td>0.0</td>\n",
       "      <td>0.575318</td>\n",
       "      <td>0.694444</td>\n",
       "      <td>0.149682</td>\n",
       "      <td>0.264706</td>\n",
       "      <td>0.624161</td>\n",
       "      <td>...</td>\n",
       "      <td>1</td>\n",
       "      <td>0</td>\n",
       "      <td>0</td>\n",
       "      <td>0</td>\n",
       "      <td>1</td>\n",
       "      <td>0</td>\n",
       "      <td>0</td>\n",
       "      <td>1</td>\n",
       "      <td>0</td>\n",
       "      <td>0</td>\n",
       "    </tr>\n",
       "  </tbody>\n",
       "</table>\n",
       "<p>5 rows × 62 columns</p>\n",
       "</div>"
      ],
      "text/plain": [
       "   probignicion   altitud       lon       lat  prec      tmax       dir  \\\n",
       "0           0.0  0.517710  0.703490  0.663822   0.0  0.462795  0.805556   \n",
       "1           0.0  0.335891  0.731106  0.672918   0.0  0.637024  0.500000   \n",
       "2           0.0  0.351240  0.760152  0.707177   0.0  0.571688  0.250000   \n",
       "3           0.0  0.664109  0.699029  0.672143   0.0  0.662432  0.418981   \n",
       "4           0.0  0.410272  0.714636  0.675420   0.0  0.575318  0.694444   \n",
       "\n",
       "   velmedia     racha       sol  ...  mes_octubre  mes_septiembre  \\\n",
       "0  0.194268  0.218750  0.637584  ...            0               0   \n",
       "1  0.203822  0.240809  0.731544  ...            0               0   \n",
       "2  0.114650  0.204044  0.221477  ...            0               0   \n",
       "3  0.159236  0.130821  0.597315  ...            0               1   \n",
       "4  0.149682  0.264706  0.624161  ...            1               0   \n",
       "\n",
       "   dia_festivo  dia_lab_vis_fes  dia_laborable  dia_sabado  horario_Madrugada  \\\n",
       "0            0                0              1           0                  0   \n",
       "1            1                0              0           0                  0   \n",
       "2            0                0              1           0                  0   \n",
       "3            0                0              1           0                  0   \n",
       "4            0                0              1           0                  0   \n",
       "\n",
       "   horario_Mañana  horario_Noche  horario_Tarde  \n",
       "0               0              0              1  \n",
       "1               0              0              1  \n",
       "2               1              0              0  \n",
       "3               0              0              1  \n",
       "4               1              0              0  \n",
       "\n",
       "[5 rows x 62 columns]"
      ]
     },
     "execution_count": 5,
     "metadata": {},
     "output_type": "execute_result"
    }
   ],
   "source": [
    "# Seleccionamos las variables numéricas y categóricas \n",
    "numericas = ['probignicion', 'altitud', 'lon', 'lat', 'prec', 'tmax', 'dir', 'velmedia',\n",
    "             'racha', 'sol', 'hrmedia', 'denpoblacion', 'denincendios', 'fwi']\n",
    "categoricas = ['detectadopor', 'combustible', 'fuego', 'lugar', 'mes', 'dia', 'horario']\n",
    "\n",
    "# Aplicamos las transformaciones para cada tipo de variable\n",
    "prep = ColumnTransformer(transformers=[\n",
    "        ('num', MinMaxScaler(), numericas),\n",
    "        ('cat', OneHotEncoder(handle_unknown='ignore', drop=None, sparse_output=False), categoricas),])\n",
    "\n",
    "# Creamos el pipeline\n",
    "pipeline = Pipeline(steps=[('prep', prep)])\n",
    "\n",
    "# Introducimos los datos de entrada\n",
    "X = bdif_modelo.drop(columns=['claseincendio'])\n",
    "\n",
    "# Ajustar el Pipeline a los datos y transformar\n",
    "X_prep = pipeline.fit_transform(X)\n",
    "\n",
    "# Lo pasamos a dataframe\n",
    "X_prepdf = pd.DataFrame(X_prep, columns=pipeline.named_steps['prep'].get_feature_names_out())\n",
    "\n",
    "# Hay que convertir las columnas categoricas a enteros\n",
    "dummies = X_prepdf.filter(regex='^cat').columns\n",
    "X_prepdf[dummies] = X_prepdf[dummies].astype(int)\n",
    "\n",
    "# Eliminamos los prefijos\n",
    "X_prepdf.columns = X_prepdf.columns.str.replace(r'^(num__|cat__)', '', regex=True)\n",
    "\n",
    "# Mostrar el resultado\n",
    "X_prepdf.head()"
   ]
  },
  {
   "cell_type": "code",
   "execution_count": 6,
   "id": "9413d8c1-0e76-4fc9-b495-7a000f5053c5",
   "metadata": {},
   "outputs": [
    {
     "data": {
      "text/html": [
       "<div>\n",
       "<style scoped>\n",
       "    .dataframe tbody tr th:only-of-type {\n",
       "        vertical-align: middle;\n",
       "    }\n",
       "\n",
       "    .dataframe tbody tr th {\n",
       "        vertical-align: top;\n",
       "    }\n",
       "\n",
       "    .dataframe thead th {\n",
       "        text-align: right;\n",
       "    }\n",
       "</style>\n",
       "<table border=\"1\" class=\"dataframe\">\n",
       "  <thead>\n",
       "    <tr style=\"text-align: right;\">\n",
       "      <th></th>\n",
       "      <th>probignicion</th>\n",
       "      <th>altitud</th>\n",
       "      <th>lon</th>\n",
       "      <th>lat</th>\n",
       "      <th>prec</th>\n",
       "      <th>tmax</th>\n",
       "      <th>dir</th>\n",
       "      <th>velmedia</th>\n",
       "      <th>racha</th>\n",
       "      <th>sol</th>\n",
       "      <th>...</th>\n",
       "      <th>mes_septiembre</th>\n",
       "      <th>dia_festivo</th>\n",
       "      <th>dia_lab_vis_fes</th>\n",
       "      <th>dia_laborable</th>\n",
       "      <th>dia_sabado</th>\n",
       "      <th>horario_Madrugada</th>\n",
       "      <th>horario_Mañana</th>\n",
       "      <th>horario_Noche</th>\n",
       "      <th>horario_Tarde</th>\n",
       "      <th>claseincendio</th>\n",
       "    </tr>\n",
       "  </thead>\n",
       "  <tbody>\n",
       "    <tr>\n",
       "      <th>0</th>\n",
       "      <td>0.0</td>\n",
       "      <td>0.517710</td>\n",
       "      <td>0.703490</td>\n",
       "      <td>0.663822</td>\n",
       "      <td>0.0</td>\n",
       "      <td>0.462795</td>\n",
       "      <td>0.805556</td>\n",
       "      <td>0.194268</td>\n",
       "      <td>0.218750</td>\n",
       "      <td>0.637584</td>\n",
       "      <td>...</td>\n",
       "      <td>0</td>\n",
       "      <td>0</td>\n",
       "      <td>0</td>\n",
       "      <td>1</td>\n",
       "      <td>0</td>\n",
       "      <td>0</td>\n",
       "      <td>0</td>\n",
       "      <td>0</td>\n",
       "      <td>1</td>\n",
       "      <td>1</td>\n",
       "    </tr>\n",
       "    <tr>\n",
       "      <th>1</th>\n",
       "      <td>0.0</td>\n",
       "      <td>0.335891</td>\n",
       "      <td>0.731106</td>\n",
       "      <td>0.672918</td>\n",
       "      <td>0.0</td>\n",
       "      <td>0.637024</td>\n",
       "      <td>0.500000</td>\n",
       "      <td>0.203822</td>\n",
       "      <td>0.240809</td>\n",
       "      <td>0.731544</td>\n",
       "      <td>...</td>\n",
       "      <td>0</td>\n",
       "      <td>1</td>\n",
       "      <td>0</td>\n",
       "      <td>0</td>\n",
       "      <td>0</td>\n",
       "      <td>0</td>\n",
       "      <td>0</td>\n",
       "      <td>0</td>\n",
       "      <td>1</td>\n",
       "      <td>0</td>\n",
       "    </tr>\n",
       "    <tr>\n",
       "      <th>2</th>\n",
       "      <td>0.0</td>\n",
       "      <td>0.351240</td>\n",
       "      <td>0.760152</td>\n",
       "      <td>0.707177</td>\n",
       "      <td>0.0</td>\n",
       "      <td>0.571688</td>\n",
       "      <td>0.250000</td>\n",
       "      <td>0.114650</td>\n",
       "      <td>0.204044</td>\n",
       "      <td>0.221477</td>\n",
       "      <td>...</td>\n",
       "      <td>0</td>\n",
       "      <td>0</td>\n",
       "      <td>0</td>\n",
       "      <td>1</td>\n",
       "      <td>0</td>\n",
       "      <td>0</td>\n",
       "      <td>1</td>\n",
       "      <td>0</td>\n",
       "      <td>0</td>\n",
       "      <td>0</td>\n",
       "    </tr>\n",
       "    <tr>\n",
       "      <th>3</th>\n",
       "      <td>0.0</td>\n",
       "      <td>0.664109</td>\n",
       "      <td>0.699029</td>\n",
       "      <td>0.672143</td>\n",
       "      <td>0.0</td>\n",
       "      <td>0.662432</td>\n",
       "      <td>0.418981</td>\n",
       "      <td>0.159236</td>\n",
       "      <td>0.130821</td>\n",
       "      <td>0.597315</td>\n",
       "      <td>...</td>\n",
       "      <td>1</td>\n",
       "      <td>0</td>\n",
       "      <td>0</td>\n",
       "      <td>1</td>\n",
       "      <td>0</td>\n",
       "      <td>0</td>\n",
       "      <td>0</td>\n",
       "      <td>0</td>\n",
       "      <td>1</td>\n",
       "      <td>1</td>\n",
       "    </tr>\n",
       "    <tr>\n",
       "      <th>4</th>\n",
       "      <td>0.0</td>\n",
       "      <td>0.410272</td>\n",
       "      <td>0.714636</td>\n",
       "      <td>0.675420</td>\n",
       "      <td>0.0</td>\n",
       "      <td>0.575318</td>\n",
       "      <td>0.694444</td>\n",
       "      <td>0.149682</td>\n",
       "      <td>0.264706</td>\n",
       "      <td>0.624161</td>\n",
       "      <td>...</td>\n",
       "      <td>0</td>\n",
       "      <td>0</td>\n",
       "      <td>0</td>\n",
       "      <td>1</td>\n",
       "      <td>0</td>\n",
       "      <td>0</td>\n",
       "      <td>1</td>\n",
       "      <td>0</td>\n",
       "      <td>0</td>\n",
       "      <td>0</td>\n",
       "    </tr>\n",
       "  </tbody>\n",
       "</table>\n",
       "<p>5 rows × 63 columns</p>\n",
       "</div>"
      ],
      "text/plain": [
       "   probignicion   altitud       lon       lat  prec      tmax       dir  \\\n",
       "0           0.0  0.517710  0.703490  0.663822   0.0  0.462795  0.805556   \n",
       "1           0.0  0.335891  0.731106  0.672918   0.0  0.637024  0.500000   \n",
       "2           0.0  0.351240  0.760152  0.707177   0.0  0.571688  0.250000   \n",
       "3           0.0  0.664109  0.699029  0.672143   0.0  0.662432  0.418981   \n",
       "4           0.0  0.410272  0.714636  0.675420   0.0  0.575318  0.694444   \n",
       "\n",
       "   velmedia     racha       sol  ...  mes_septiembre  dia_festivo  \\\n",
       "0  0.194268  0.218750  0.637584  ...               0            0   \n",
       "1  0.203822  0.240809  0.731544  ...               0            1   \n",
       "2  0.114650  0.204044  0.221477  ...               0            0   \n",
       "3  0.159236  0.130821  0.597315  ...               1            0   \n",
       "4  0.149682  0.264706  0.624161  ...               0            0   \n",
       "\n",
       "   dia_lab_vis_fes  dia_laborable  dia_sabado  horario_Madrugada  \\\n",
       "0                0              1           0                  0   \n",
       "1                0              0           0                  0   \n",
       "2                0              1           0                  0   \n",
       "3                0              1           0                  0   \n",
       "4                0              1           0                  0   \n",
       "\n",
       "   horario_Mañana  horario_Noche  horario_Tarde  claseincendio  \n",
       "0               0              0              1              1  \n",
       "1               0              0              1              0  \n",
       "2               1              0              0              0  \n",
       "3               0              0              1              1  \n",
       "4               1              0              0              0  \n",
       "\n",
       "[5 rows x 63 columns]"
      ]
     },
     "execution_count": 6,
     "metadata": {},
     "output_type": "execute_result"
    }
   ],
   "source": [
    "# Reconstruimos el dataset\n",
    "X_prepdf['claseincendio'] = bdif_modelo['claseincendio']\n",
    "bdif_reconstruido = X_prepdf.copy()\n",
    "bdif_reconstruido.head()"
   ]
  },
  {
   "cell_type": "code",
   "execution_count": 7,
   "id": "200e4a1e-dd03-41ea-84c8-dd258da04620",
   "metadata": {},
   "outputs": [],
   "source": [
    "X = bdif_reconstruido[['denincendios', 'tmax', 'denpoblacion', 'lon', 'lat', 'fuego_sup_cop', 'fwi', 'hrmedia', 'altitud',\n",
    "          'fuego_superficie', 'sol', 'racha', 'dir', 'velmedia', 'probignicion', 'combustible_matorrales',\n",
    "          'combustible_mat_bos', 'prec', 'combustible_pas_mat_bos', 'detectadopor_agente_forestal', 'horario_Noche',\n",
    "          'horario_Tarde', 'lugar_otros', 'detectadopor_vigilante_fijo', 'dia_laborable', 'mes_agosto',\n",
    "          'detectadopor_llamada_particular', 'lugar_autovia_carretera', 'lugar_senda', 'detectadopor_otros', 'dia_festivo',\n",
    "          'mes_septiembre', 'combustible_pastizales', 'dia_sabado', 'combustible_bosques', 'horario_Mañana']]\n",
    "y = bdif_reconstruido['claseincendio']"
   ]
  },
  {
   "cell_type": "code",
   "execution_count": 8,
   "id": "06fb9e66-708e-486a-92bc-7f19ec14a6c9",
   "metadata": {},
   "outputs": [],
   "source": [
    "# División en entrenamiento y prueba\n",
    "X_train, X_test, y_train, y_test = train_test_split(X, y, test_size=0.2, random_state=42, stratify=y)"
   ]
  },
  {
   "cell_type": "markdown",
   "id": "bea0477f-29ba-40bc-99dc-bc1e0783d841",
   "metadata": {},
   "source": [
    "### Dataset submuestreado con ENN + Tomek Links"
   ]
  },
  {
   "cell_type": "code",
   "execution_count": 9,
   "id": "204ceca3-09e3-42f5-86fc-f00b6a712ac5",
   "metadata": {},
   "outputs": [
    {
     "data": {
      "text/html": [
       "<div>\n",
       "<style scoped>\n",
       "    .dataframe tbody tr th:only-of-type {\n",
       "        vertical-align: middle;\n",
       "    }\n",
       "\n",
       "    .dataframe tbody tr th {\n",
       "        vertical-align: top;\n",
       "    }\n",
       "\n",
       "    .dataframe thead th {\n",
       "        text-align: right;\n",
       "    }\n",
       "</style>\n",
       "<table border=\"1\" class=\"dataframe\">\n",
       "  <thead>\n",
       "    <tr style=\"text-align: right;\">\n",
       "      <th></th>\n",
       "      <th>denincendios</th>\n",
       "      <th>tmax</th>\n",
       "      <th>denpoblacion</th>\n",
       "      <th>lon</th>\n",
       "      <th>lat</th>\n",
       "      <th>fuego_sup_cop</th>\n",
       "      <th>fwi</th>\n",
       "      <th>hrmedia</th>\n",
       "      <th>altitud</th>\n",
       "      <th>fuego_superficie</th>\n",
       "      <th>...</th>\n",
       "      <th>lugar_autovia_carretera</th>\n",
       "      <th>lugar_senda</th>\n",
       "      <th>detectadopor_otros</th>\n",
       "      <th>dia_festivo</th>\n",
       "      <th>mes_septiembre</th>\n",
       "      <th>combustible_pastizales</th>\n",
       "      <th>dia_sabado</th>\n",
       "      <th>combustible_bosques</th>\n",
       "      <th>horario_Mañana</th>\n",
       "      <th>claseincendio</th>\n",
       "    </tr>\n",
       "  </thead>\n",
       "  <tbody>\n",
       "    <tr>\n",
       "      <th>0</th>\n",
       "      <td>0.014306</td>\n",
       "      <td>0.618875</td>\n",
       "      <td>0.000183</td>\n",
       "      <td>0.559100</td>\n",
       "      <td>0.802846</td>\n",
       "      <td>0</td>\n",
       "      <td>0.265486</td>\n",
       "      <td>0.572917</td>\n",
       "      <td>0.543093</td>\n",
       "      <td>1</td>\n",
       "      <td>...</td>\n",
       "      <td>0</td>\n",
       "      <td>0</td>\n",
       "      <td>0</td>\n",
       "      <td>0</td>\n",
       "      <td>0</td>\n",
       "      <td>1</td>\n",
       "      <td>0</td>\n",
       "      <td>0</td>\n",
       "      <td>0</td>\n",
       "      <td>0</td>\n",
       "    </tr>\n",
       "    <tr>\n",
       "      <th>1</th>\n",
       "      <td>0.000358</td>\n",
       "      <td>0.542650</td>\n",
       "      <td>0.000068</td>\n",
       "      <td>0.523174</td>\n",
       "      <td>0.647512</td>\n",
       "      <td>0</td>\n",
       "      <td>0.000000</td>\n",
       "      <td>0.656250</td>\n",
       "      <td>0.418536</td>\n",
       "      <td>1</td>\n",
       "      <td>...</td>\n",
       "      <td>0</td>\n",
       "      <td>1</td>\n",
       "      <td>1</td>\n",
       "      <td>0</td>\n",
       "      <td>0</td>\n",
       "      <td>1</td>\n",
       "      <td>1</td>\n",
       "      <td>0</td>\n",
       "      <td>0</td>\n",
       "      <td>0</td>\n",
       "    </tr>\n",
       "    <tr>\n",
       "      <th>2</th>\n",
       "      <td>0.000269</td>\n",
       "      <td>0.802178</td>\n",
       "      <td>0.000060</td>\n",
       "      <td>0.574670</td>\n",
       "      <td>0.718691</td>\n",
       "      <td>0</td>\n",
       "      <td>0.378725</td>\n",
       "      <td>0.427083</td>\n",
       "      <td>0.236128</td>\n",
       "      <td>1</td>\n",
       "      <td>...</td>\n",
       "      <td>0</td>\n",
       "      <td>0</td>\n",
       "      <td>0</td>\n",
       "      <td>0</td>\n",
       "      <td>0</td>\n",
       "      <td>0</td>\n",
       "      <td>0</td>\n",
       "      <td>0</td>\n",
       "      <td>0</td>\n",
       "      <td>0</td>\n",
       "    </tr>\n",
       "    <tr>\n",
       "      <th>3</th>\n",
       "      <td>0.000112</td>\n",
       "      <td>0.802178</td>\n",
       "      <td>0.000010</td>\n",
       "      <td>0.587270</td>\n",
       "      <td>0.722982</td>\n",
       "      <td>0</td>\n",
       "      <td>0.378725</td>\n",
       "      <td>0.427083</td>\n",
       "      <td>0.257379</td>\n",
       "      <td>1</td>\n",
       "      <td>...</td>\n",
       "      <td>0</td>\n",
       "      <td>0</td>\n",
       "      <td>0</td>\n",
       "      <td>0</td>\n",
       "      <td>0</td>\n",
       "      <td>0</td>\n",
       "      <td>0</td>\n",
       "      <td>0</td>\n",
       "      <td>0</td>\n",
       "      <td>0</td>\n",
       "    </tr>\n",
       "    <tr>\n",
       "      <th>4</th>\n",
       "      <td>0.000112</td>\n",
       "      <td>0.802178</td>\n",
       "      <td>0.000010</td>\n",
       "      <td>0.587270</td>\n",
       "      <td>0.722982</td>\n",
       "      <td>0</td>\n",
       "      <td>0.378725</td>\n",
       "      <td>0.427083</td>\n",
       "      <td>0.257379</td>\n",
       "      <td>1</td>\n",
       "      <td>...</td>\n",
       "      <td>0</td>\n",
       "      <td>0</td>\n",
       "      <td>0</td>\n",
       "      <td>0</td>\n",
       "      <td>0</td>\n",
       "      <td>0</td>\n",
       "      <td>0</td>\n",
       "      <td>0</td>\n",
       "      <td>0</td>\n",
       "      <td>0</td>\n",
       "    </tr>\n",
       "  </tbody>\n",
       "</table>\n",
       "<p>5 rows × 37 columns</p>\n",
       "</div>"
      ],
      "text/plain": [
       "   denincendios      tmax  denpoblacion       lon       lat  fuego_sup_cop  \\\n",
       "0      0.014306  0.618875      0.000183  0.559100  0.802846              0   \n",
       "1      0.000358  0.542650      0.000068  0.523174  0.647512              0   \n",
       "2      0.000269  0.802178      0.000060  0.574670  0.718691              0   \n",
       "3      0.000112  0.802178      0.000010  0.587270  0.722982              0   \n",
       "4      0.000112  0.802178      0.000010  0.587270  0.722982              0   \n",
       "\n",
       "        fwi   hrmedia   altitud  fuego_superficie  ...  \\\n",
       "0  0.265486  0.572917  0.543093                 1  ...   \n",
       "1  0.000000  0.656250  0.418536                 1  ...   \n",
       "2  0.378725  0.427083  0.236128                 1  ...   \n",
       "3  0.378725  0.427083  0.257379                 1  ...   \n",
       "4  0.378725  0.427083  0.257379                 1  ...   \n",
       "\n",
       "   lugar_autovia_carretera  lugar_senda  detectadopor_otros  dia_festivo  \\\n",
       "0                        0            0                   0            0   \n",
       "1                        0            1                   1            0   \n",
       "2                        0            0                   0            0   \n",
       "3                        0            0                   0            0   \n",
       "4                        0            0                   0            0   \n",
       "\n",
       "   mes_septiembre  combustible_pastizales  dia_sabado  combustible_bosques  \\\n",
       "0               0                       1           0                    0   \n",
       "1               0                       1           1                    0   \n",
       "2               0                       0           0                    0   \n",
       "3               0                       0           0                    0   \n",
       "4               0                       0           0                    0   \n",
       "\n",
       "   horario_Mañana  claseincendio  \n",
       "0               0              0  \n",
       "1               0              0  \n",
       "2               0              0  \n",
       "3               0              0  \n",
       "4               0              0  \n",
       "\n",
       "[5 rows x 37 columns]"
      ]
     },
     "execution_count": 9,
     "metadata": {},
     "output_type": "execute_result"
    }
   ],
   "source": [
    "bdif_enn = pd.read_excel(\"bdif_submuestreado.xlsx\")\n",
    "bdif_enn.head()"
   ]
  },
  {
   "cell_type": "code",
   "execution_count": 10,
   "id": "21696210-e928-41c4-b1d8-c87768238fca",
   "metadata": {},
   "outputs": [
    {
     "name": "stdout",
     "output_type": "stream",
     "text": [
      "claseincendio\n",
      "0    70482\n",
      "1    26177\n",
      "2     1966\n",
      "Name: count, dtype: int64\n"
     ]
    }
   ],
   "source": [
    "print(bdif_enn['claseincendio'].value_counts())"
   ]
  },
  {
   "cell_type": "code",
   "execution_count": 11,
   "id": "abdaa23d-442b-4b73-aec3-b287b43116c9",
   "metadata": {},
   "outputs": [],
   "source": [
    "bdif_enn = bdif_enn[['denincendios', 'tmax', 'denpoblacion', 'lon', 'lat', 'fuego_sup_cop', 'fwi', 'hrmedia', 'altitud',\n",
    "          'fuego_superficie', 'sol', 'racha', 'dir', 'velmedia', 'probignicion', 'combustible_matorrales',\n",
    "          'combustible_mat_bos', 'prec', 'combustible_pas_mat_bos', 'detectadopor_agente_forestal', 'horario_Noche',\n",
    "          'horario_Tarde', 'lugar_otros', 'detectadopor_vigilante_fijo', 'dia_laborable', 'mes_agosto',\n",
    "          'detectadopor_llamada_particular', 'lugar_autovia_carretera', 'lugar_senda', 'detectadopor_otros', 'dia_festivo',\n",
    "          'mes_septiembre', 'combustible_pastizales', 'dia_sabado', 'combustible_bosques', 'horario_Mañana', 'claseincendio']]"
   ]
  },
  {
   "cell_type": "markdown",
   "id": "ea063ce9-c376-4dfd-bba2-9eadcd99600f",
   "metadata": {},
   "source": [
    "### Dataset submuestreado con ENN y reducción controlada de clases"
   ]
  },
  {
   "cell_type": "code",
   "execution_count": 12,
   "id": "10cb1040-cf81-412f-ab3b-7ebbf328a184",
   "metadata": {},
   "outputs": [
    {
     "name": "stdout",
     "output_type": "stream",
     "text": [
      "claseincendio\n",
      "0    3141\n",
      "1    3141\n",
      "2    1966\n",
      "Name: count, dtype: int64\n"
     ]
    }
   ],
   "source": [
    "X = bdif_enn.drop(['claseincendio'], axis=1)\n",
    "y = bdif_enn['claseincendio']\n",
    "\n",
    "rus = RandomUnderSampler(sampling_strategy={0:int(0.12*y.value_counts()[1]), 1:int(0.12*y.value_counts()[1])}, random_state=42)\n",
    "\n",
    "X_res, y_res = rus.fit_resample(X, y)\n",
    "\n",
    "bdif_sub = pd.concat([X_res, y_res], axis=1)\n",
    "print(bdif_sub['claseincendio'].value_counts())"
   ]
  },
  {
   "cell_type": "markdown",
   "id": "a5c90d87-c82d-44e5-b837-dd359adc41e4",
   "metadata": {},
   "source": [
    "### Sobremuestreo clase GIF con RandomOverSampler"
   ]
  },
  {
   "cell_type": "code",
   "execution_count": 13,
   "id": "0c6d1663-fea5-4fa1-8bc7-9e52cbd267a5",
   "metadata": {},
   "outputs": [
    {
     "name": "stdout",
     "output_type": "stream",
     "text": [
      "Distribución de clases en el conjunto de entrenamiento después de Random Over-Sampling: Counter({1: 2513, 0: 2513, 2: 2513})\n",
      "Distribución de clases en el conjunto de test: Counter({0: 629, 1: 628, 2: 393})\n"
     ]
    }
   ],
   "source": [
    "X = bdif_sub.drop(['claseincendio'], axis=1)\n",
    "y = bdif_sub['claseincendio']\n",
    "\n",
    "X_train_sob, X_test, y_train_sob, y_test = train_test_split(X, y, test_size=0.2, random_state=42, stratify=y)\n",
    "\n",
    "random_oversampler = RandomOverSampler(sampling_strategy='auto', random_state=42)\n",
    "X_train, y_train = random_oversampler.fit_resample(X_train_sob, y_train_sob)\n",
    "\n",
    "print(f\"Distribución de clases en el conjunto de entrenamiento después de Random Over-Sampling: {Counter(y_train)}\")\n",
    "print(f\"Distribución de clases en el conjunto de test: {Counter(y_test)}\")"
   ]
  },
  {
   "cell_type": "markdown",
   "id": "765b3450-5f56-4579-a6aa-9e6f86def364",
   "metadata": {},
   "source": [
    "### Cálculos del modelo"
   ]
  },
  {
   "cell_type": "code",
   "execution_count": 14,
   "id": "fea30c70-087a-4d20-b6b4-7e98fd4ccebd",
   "metadata": {},
   "outputs": [],
   "source": [
    "# División en entrenamiento y prueba\n",
    "#X_train, X_test, y_train, y_test = train_test_split(X, y, test_size=0.2, random_state=42, stratify=y)"
   ]
  },
  {
   "cell_type": "code",
   "execution_count": 15,
   "id": "7c04d6c5-71d7-446a-becc-c6bab2995796",
   "metadata": {},
   "outputs": [
    {
     "name": "stdout",
     "output_type": "stream",
     "text": [
      "[LightGBM] [Info] Auto-choosing row-wise multi-threading, the overhead of testing was 0.001193 seconds.\n",
      "You can set `force_row_wise=true` to remove the overhead.\n",
      "And if memory is not enough, you can set `force_col_wise=true`.\n",
      "[LightGBM] [Info] Total Bins 3404\n",
      "[LightGBM] [Info] Number of data points in the train set: 7539, number of used features: 36\n",
      "[LightGBM] [Info] Start training from score -1.098612\n",
      "[LightGBM] [Info] Start training from score -1.098612\n",
      "[LightGBM] [Info] Start training from score -1.098612\n"
     ]
    },
    {
     "data": {
      "text/html": [
       "<style>#sk-container-id-1 {\n",
       "  /* Definition of color scheme common for light and dark mode */\n",
       "  --sklearn-color-text: black;\n",
       "  --sklearn-color-line: gray;\n",
       "  /* Definition of color scheme for unfitted estimators */\n",
       "  --sklearn-color-unfitted-level-0: #fff5e6;\n",
       "  --sklearn-color-unfitted-level-1: #f6e4d2;\n",
       "  --sklearn-color-unfitted-level-2: #ffe0b3;\n",
       "  --sklearn-color-unfitted-level-3: chocolate;\n",
       "  /* Definition of color scheme for fitted estimators */\n",
       "  --sklearn-color-fitted-level-0: #f0f8ff;\n",
       "  --sklearn-color-fitted-level-1: #d4ebff;\n",
       "  --sklearn-color-fitted-level-2: #b3dbfd;\n",
       "  --sklearn-color-fitted-level-3: cornflowerblue;\n",
       "\n",
       "  /* Specific color for light theme */\n",
       "  --sklearn-color-text-on-default-background: var(--sg-text-color, var(--theme-code-foreground, var(--jp-content-font-color1, black)));\n",
       "  --sklearn-color-background: var(--sg-background-color, var(--theme-background, var(--jp-layout-color0, white)));\n",
       "  --sklearn-color-border-box: var(--sg-text-color, var(--theme-code-foreground, var(--jp-content-font-color1, black)));\n",
       "  --sklearn-color-icon: #696969;\n",
       "\n",
       "  @media (prefers-color-scheme: dark) {\n",
       "    /* Redefinition of color scheme for dark theme */\n",
       "    --sklearn-color-text-on-default-background: var(--sg-text-color, var(--theme-code-foreground, var(--jp-content-font-color1, white)));\n",
       "    --sklearn-color-background: var(--sg-background-color, var(--theme-background, var(--jp-layout-color0, #111)));\n",
       "    --sklearn-color-border-box: var(--sg-text-color, var(--theme-code-foreground, var(--jp-content-font-color1, white)));\n",
       "    --sklearn-color-icon: #878787;\n",
       "  }\n",
       "}\n",
       "\n",
       "#sk-container-id-1 {\n",
       "  color: var(--sklearn-color-text);\n",
       "}\n",
       "\n",
       "#sk-container-id-1 pre {\n",
       "  padding: 0;\n",
       "}\n",
       "\n",
       "#sk-container-id-1 input.sk-hidden--visually {\n",
       "  border: 0;\n",
       "  clip: rect(1px 1px 1px 1px);\n",
       "  clip: rect(1px, 1px, 1px, 1px);\n",
       "  height: 1px;\n",
       "  margin: -1px;\n",
       "  overflow: hidden;\n",
       "  padding: 0;\n",
       "  position: absolute;\n",
       "  width: 1px;\n",
       "}\n",
       "\n",
       "#sk-container-id-1 div.sk-dashed-wrapped {\n",
       "  border: 1px dashed var(--sklearn-color-line);\n",
       "  margin: 0 0.4em 0.5em 0.4em;\n",
       "  box-sizing: border-box;\n",
       "  padding-bottom: 0.4em;\n",
       "  background-color: var(--sklearn-color-background);\n",
       "}\n",
       "\n",
       "#sk-container-id-1 div.sk-container {\n",
       "  /* jupyter's `normalize.less` sets `[hidden] { display: none; }`\n",
       "     but bootstrap.min.css set `[hidden] { display: none !important; }`\n",
       "     so we also need the `!important` here to be able to override the\n",
       "     default hidden behavior on the sphinx rendered scikit-learn.org.\n",
       "     See: https://github.com/scikit-learn/scikit-learn/issues/21755 */\n",
       "  display: inline-block !important;\n",
       "  position: relative;\n",
       "}\n",
       "\n",
       "#sk-container-id-1 div.sk-text-repr-fallback {\n",
       "  display: none;\n",
       "}\n",
       "\n",
       "div.sk-parallel-item,\n",
       "div.sk-serial,\n",
       "div.sk-item {\n",
       "  /* draw centered vertical line to link estimators */\n",
       "  background-image: linear-gradient(var(--sklearn-color-text-on-default-background), var(--sklearn-color-text-on-default-background));\n",
       "  background-size: 2px 100%;\n",
       "  background-repeat: no-repeat;\n",
       "  background-position: center center;\n",
       "}\n",
       "\n",
       "/* Parallel-specific style estimator block */\n",
       "\n",
       "#sk-container-id-1 div.sk-parallel-item::after {\n",
       "  content: \"\";\n",
       "  width: 100%;\n",
       "  border-bottom: 2px solid var(--sklearn-color-text-on-default-background);\n",
       "  flex-grow: 1;\n",
       "}\n",
       "\n",
       "#sk-container-id-1 div.sk-parallel {\n",
       "  display: flex;\n",
       "  align-items: stretch;\n",
       "  justify-content: center;\n",
       "  background-color: var(--sklearn-color-background);\n",
       "  position: relative;\n",
       "}\n",
       "\n",
       "#sk-container-id-1 div.sk-parallel-item {\n",
       "  display: flex;\n",
       "  flex-direction: column;\n",
       "}\n",
       "\n",
       "#sk-container-id-1 div.sk-parallel-item:first-child::after {\n",
       "  align-self: flex-end;\n",
       "  width: 50%;\n",
       "}\n",
       "\n",
       "#sk-container-id-1 div.sk-parallel-item:last-child::after {\n",
       "  align-self: flex-start;\n",
       "  width: 50%;\n",
       "}\n",
       "\n",
       "#sk-container-id-1 div.sk-parallel-item:only-child::after {\n",
       "  width: 0;\n",
       "}\n",
       "\n",
       "/* Serial-specific style estimator block */\n",
       "\n",
       "#sk-container-id-1 div.sk-serial {\n",
       "  display: flex;\n",
       "  flex-direction: column;\n",
       "  align-items: center;\n",
       "  background-color: var(--sklearn-color-background);\n",
       "  padding-right: 1em;\n",
       "  padding-left: 1em;\n",
       "}\n",
       "\n",
       "\n",
       "/* Toggleable style: style used for estimator/Pipeline/ColumnTransformer box that is\n",
       "clickable and can be expanded/collapsed.\n",
       "- Pipeline and ColumnTransformer use this feature and define the default style\n",
       "- Estimators will overwrite some part of the style using the `sk-estimator` class\n",
       "*/\n",
       "\n",
       "/* Pipeline and ColumnTransformer style (default) */\n",
       "\n",
       "#sk-container-id-1 div.sk-toggleable {\n",
       "  /* Default theme specific background. It is overwritten whether we have a\n",
       "  specific estimator or a Pipeline/ColumnTransformer */\n",
       "  background-color: var(--sklearn-color-background);\n",
       "}\n",
       "\n",
       "/* Toggleable label */\n",
       "#sk-container-id-1 label.sk-toggleable__label {\n",
       "  cursor: pointer;\n",
       "  display: block;\n",
       "  width: 100%;\n",
       "  margin-bottom: 0;\n",
       "  padding: 0.5em;\n",
       "  box-sizing: border-box;\n",
       "  text-align: center;\n",
       "}\n",
       "\n",
       "#sk-container-id-1 label.sk-toggleable__label-arrow:before {\n",
       "  /* Arrow on the left of the label */\n",
       "  content: \"▸\";\n",
       "  float: left;\n",
       "  margin-right: 0.25em;\n",
       "  color: var(--sklearn-color-icon);\n",
       "}\n",
       "\n",
       "#sk-container-id-1 label.sk-toggleable__label-arrow:hover:before {\n",
       "  color: var(--sklearn-color-text);\n",
       "}\n",
       "\n",
       "/* Toggleable content - dropdown */\n",
       "\n",
       "#sk-container-id-1 div.sk-toggleable__content {\n",
       "  max-height: 0;\n",
       "  max-width: 0;\n",
       "  overflow: hidden;\n",
       "  text-align: left;\n",
       "  /* unfitted */\n",
       "  background-color: var(--sklearn-color-unfitted-level-0);\n",
       "}\n",
       "\n",
       "#sk-container-id-1 div.sk-toggleable__content.fitted {\n",
       "  /* fitted */\n",
       "  background-color: var(--sklearn-color-fitted-level-0);\n",
       "}\n",
       "\n",
       "#sk-container-id-1 div.sk-toggleable__content pre {\n",
       "  margin: 0.2em;\n",
       "  border-radius: 0.25em;\n",
       "  color: var(--sklearn-color-text);\n",
       "  /* unfitted */\n",
       "  background-color: var(--sklearn-color-unfitted-level-0);\n",
       "}\n",
       "\n",
       "#sk-container-id-1 div.sk-toggleable__content.fitted pre {\n",
       "  /* unfitted */\n",
       "  background-color: var(--sklearn-color-fitted-level-0);\n",
       "}\n",
       "\n",
       "#sk-container-id-1 input.sk-toggleable__control:checked~div.sk-toggleable__content {\n",
       "  /* Expand drop-down */\n",
       "  max-height: 200px;\n",
       "  max-width: 100%;\n",
       "  overflow: auto;\n",
       "}\n",
       "\n",
       "#sk-container-id-1 input.sk-toggleable__control:checked~label.sk-toggleable__label-arrow:before {\n",
       "  content: \"▾\";\n",
       "}\n",
       "\n",
       "/* Pipeline/ColumnTransformer-specific style */\n",
       "\n",
       "#sk-container-id-1 div.sk-label input.sk-toggleable__control:checked~label.sk-toggleable__label {\n",
       "  color: var(--sklearn-color-text);\n",
       "  background-color: var(--sklearn-color-unfitted-level-2);\n",
       "}\n",
       "\n",
       "#sk-container-id-1 div.sk-label.fitted input.sk-toggleable__control:checked~label.sk-toggleable__label {\n",
       "  background-color: var(--sklearn-color-fitted-level-2);\n",
       "}\n",
       "\n",
       "/* Estimator-specific style */\n",
       "\n",
       "/* Colorize estimator box */\n",
       "#sk-container-id-1 div.sk-estimator input.sk-toggleable__control:checked~label.sk-toggleable__label {\n",
       "  /* unfitted */\n",
       "  background-color: var(--sklearn-color-unfitted-level-2);\n",
       "}\n",
       "\n",
       "#sk-container-id-1 div.sk-estimator.fitted input.sk-toggleable__control:checked~label.sk-toggleable__label {\n",
       "  /* fitted */\n",
       "  background-color: var(--sklearn-color-fitted-level-2);\n",
       "}\n",
       "\n",
       "#sk-container-id-1 div.sk-label label.sk-toggleable__label,\n",
       "#sk-container-id-1 div.sk-label label {\n",
       "  /* The background is the default theme color */\n",
       "  color: var(--sklearn-color-text-on-default-background);\n",
       "}\n",
       "\n",
       "/* On hover, darken the color of the background */\n",
       "#sk-container-id-1 div.sk-label:hover label.sk-toggleable__label {\n",
       "  color: var(--sklearn-color-text);\n",
       "  background-color: var(--sklearn-color-unfitted-level-2);\n",
       "}\n",
       "\n",
       "/* Label box, darken color on hover, fitted */\n",
       "#sk-container-id-1 div.sk-label.fitted:hover label.sk-toggleable__label.fitted {\n",
       "  color: var(--sklearn-color-text);\n",
       "  background-color: var(--sklearn-color-fitted-level-2);\n",
       "}\n",
       "\n",
       "/* Estimator label */\n",
       "\n",
       "#sk-container-id-1 div.sk-label label {\n",
       "  font-family: monospace;\n",
       "  font-weight: bold;\n",
       "  display: inline-block;\n",
       "  line-height: 1.2em;\n",
       "}\n",
       "\n",
       "#sk-container-id-1 div.sk-label-container {\n",
       "  text-align: center;\n",
       "}\n",
       "\n",
       "/* Estimator-specific */\n",
       "#sk-container-id-1 div.sk-estimator {\n",
       "  font-family: monospace;\n",
       "  border: 1px dotted var(--sklearn-color-border-box);\n",
       "  border-radius: 0.25em;\n",
       "  box-sizing: border-box;\n",
       "  margin-bottom: 0.5em;\n",
       "  /* unfitted */\n",
       "  background-color: var(--sklearn-color-unfitted-level-0);\n",
       "}\n",
       "\n",
       "#sk-container-id-1 div.sk-estimator.fitted {\n",
       "  /* fitted */\n",
       "  background-color: var(--sklearn-color-fitted-level-0);\n",
       "}\n",
       "\n",
       "/* on hover */\n",
       "#sk-container-id-1 div.sk-estimator:hover {\n",
       "  /* unfitted */\n",
       "  background-color: var(--sklearn-color-unfitted-level-2);\n",
       "}\n",
       "\n",
       "#sk-container-id-1 div.sk-estimator.fitted:hover {\n",
       "  /* fitted */\n",
       "  background-color: var(--sklearn-color-fitted-level-2);\n",
       "}\n",
       "\n",
       "/* Specification for estimator info (e.g. \"i\" and \"?\") */\n",
       "\n",
       "/* Common style for \"i\" and \"?\" */\n",
       "\n",
       ".sk-estimator-doc-link,\n",
       "a:link.sk-estimator-doc-link,\n",
       "a:visited.sk-estimator-doc-link {\n",
       "  float: right;\n",
       "  font-size: smaller;\n",
       "  line-height: 1em;\n",
       "  font-family: monospace;\n",
       "  background-color: var(--sklearn-color-background);\n",
       "  border-radius: 1em;\n",
       "  height: 1em;\n",
       "  width: 1em;\n",
       "  text-decoration: none !important;\n",
       "  margin-left: 1ex;\n",
       "  /* unfitted */\n",
       "  border: var(--sklearn-color-unfitted-level-1) 1pt solid;\n",
       "  color: var(--sklearn-color-unfitted-level-1);\n",
       "}\n",
       "\n",
       ".sk-estimator-doc-link.fitted,\n",
       "a:link.sk-estimator-doc-link.fitted,\n",
       "a:visited.sk-estimator-doc-link.fitted {\n",
       "  /* fitted */\n",
       "  border: var(--sklearn-color-fitted-level-1) 1pt solid;\n",
       "  color: var(--sklearn-color-fitted-level-1);\n",
       "}\n",
       "\n",
       "/* On hover */\n",
       "div.sk-estimator:hover .sk-estimator-doc-link:hover,\n",
       ".sk-estimator-doc-link:hover,\n",
       "div.sk-label-container:hover .sk-estimator-doc-link:hover,\n",
       ".sk-estimator-doc-link:hover {\n",
       "  /* unfitted */\n",
       "  background-color: var(--sklearn-color-unfitted-level-3);\n",
       "  color: var(--sklearn-color-background);\n",
       "  text-decoration: none;\n",
       "}\n",
       "\n",
       "div.sk-estimator.fitted:hover .sk-estimator-doc-link.fitted:hover,\n",
       ".sk-estimator-doc-link.fitted:hover,\n",
       "div.sk-label-container:hover .sk-estimator-doc-link.fitted:hover,\n",
       ".sk-estimator-doc-link.fitted:hover {\n",
       "  /* fitted */\n",
       "  background-color: var(--sklearn-color-fitted-level-3);\n",
       "  color: var(--sklearn-color-background);\n",
       "  text-decoration: none;\n",
       "}\n",
       "\n",
       "/* Span, style for the box shown on hovering the info icon */\n",
       ".sk-estimator-doc-link span {\n",
       "  display: none;\n",
       "  z-index: 9999;\n",
       "  position: relative;\n",
       "  font-weight: normal;\n",
       "  right: .2ex;\n",
       "  padding: .5ex;\n",
       "  margin: .5ex;\n",
       "  width: min-content;\n",
       "  min-width: 20ex;\n",
       "  max-width: 50ex;\n",
       "  color: var(--sklearn-color-text);\n",
       "  box-shadow: 2pt 2pt 4pt #999;\n",
       "  /* unfitted */\n",
       "  background: var(--sklearn-color-unfitted-level-0);\n",
       "  border: .5pt solid var(--sklearn-color-unfitted-level-3);\n",
       "}\n",
       "\n",
       ".sk-estimator-doc-link.fitted span {\n",
       "  /* fitted */\n",
       "  background: var(--sklearn-color-fitted-level-0);\n",
       "  border: var(--sklearn-color-fitted-level-3);\n",
       "}\n",
       "\n",
       ".sk-estimator-doc-link:hover span {\n",
       "  display: block;\n",
       "}\n",
       "\n",
       "/* \"?\"-specific style due to the `<a>` HTML tag */\n",
       "\n",
       "#sk-container-id-1 a.estimator_doc_link {\n",
       "  float: right;\n",
       "  font-size: 1rem;\n",
       "  line-height: 1em;\n",
       "  font-family: monospace;\n",
       "  background-color: var(--sklearn-color-background);\n",
       "  border-radius: 1rem;\n",
       "  height: 1rem;\n",
       "  width: 1rem;\n",
       "  text-decoration: none;\n",
       "  /* unfitted */\n",
       "  color: var(--sklearn-color-unfitted-level-1);\n",
       "  border: var(--sklearn-color-unfitted-level-1) 1pt solid;\n",
       "}\n",
       "\n",
       "#sk-container-id-1 a.estimator_doc_link.fitted {\n",
       "  /* fitted */\n",
       "  border: var(--sklearn-color-fitted-level-1) 1pt solid;\n",
       "  color: var(--sklearn-color-fitted-level-1);\n",
       "}\n",
       "\n",
       "/* On hover */\n",
       "#sk-container-id-1 a.estimator_doc_link:hover {\n",
       "  /* unfitted */\n",
       "  background-color: var(--sklearn-color-unfitted-level-3);\n",
       "  color: var(--sklearn-color-background);\n",
       "  text-decoration: none;\n",
       "}\n",
       "\n",
       "#sk-container-id-1 a.estimator_doc_link.fitted:hover {\n",
       "  /* fitted */\n",
       "  background-color: var(--sklearn-color-fitted-level-3);\n",
       "}\n",
       "</style><div id=\"sk-container-id-1\" class=\"sk-top-container\"><div class=\"sk-text-repr-fallback\"><pre>LGBMClassifier(random_state=42)</pre><b>In a Jupyter environment, please rerun this cell to show the HTML representation or trust the notebook. <br />On GitHub, the HTML representation is unable to render, please try loading this page with nbviewer.org.</b></div><div class=\"sk-container\" hidden><div class=\"sk-item\"><div class=\"sk-estimator fitted sk-toggleable\"><input class=\"sk-toggleable__control sk-hidden--visually\" id=\"sk-estimator-id-1\" type=\"checkbox\" checked><label for=\"sk-estimator-id-1\" class=\"sk-toggleable__label fitted sk-toggleable__label-arrow fitted\">&nbsp;LGBMClassifier<span class=\"sk-estimator-doc-link fitted\">i<span>Fitted</span></span></label><div class=\"sk-toggleable__content fitted\"><pre>LGBMClassifier(random_state=42)</pre></div> </div></div></div></div>"
      ],
      "text/plain": [
       "LGBMClassifier(random_state=42)"
      ]
     },
     "execution_count": 15,
     "metadata": {},
     "output_type": "execute_result"
    }
   ],
   "source": [
    "# Creamos el modelo\n",
    "lgbm = lgb.LGBMClassifier(n_estimators=100, random_state=42)\n",
    "\n",
    "# Entrenamos el modelo\n",
    "lgbm.fit(X_train, y_train)"
   ]
  },
  {
   "cell_type": "code",
   "execution_count": 17,
   "id": "bc6412c0-9f55-4e97-af75-3f60474667f3",
   "metadata": {},
   "outputs": [
    {
     "name": "stdout",
     "output_type": "stream",
     "text": [
      "              precision    recall  f1-score   support\n",
      "\n",
      "      conato       0.94      0.93      0.94       629\n",
      "    incendio       0.85      0.80      0.83       628\n",
      "         gif       0.72      0.79      0.75       393\n",
      "\n",
      "    accuracy                           0.85      1650\n",
      "   macro avg       0.84      0.84      0.84      1650\n",
      "weighted avg       0.85      0.85      0.85      1650\n",
      "\n"
     ]
    }
   ],
   "source": [
    "# Hacemos las predicciones\n",
    "y_pred = lgbm.predict(X_test)\n",
    "\n",
    "# Mostramos el informe\n",
    "print(classification_report(y_test, y_pred, target_names=['conato', 'incendio', 'gif']))"
   ]
  },
  {
   "cell_type": "code",
   "execution_count": 18,
   "id": "6bc3d196-17ec-4f5e-806a-b77957b49977",
   "metadata": {},
   "outputs": [
    {
     "data": {
      "image/png": "[encoded data removed]",
      "text/plain": [
       "<Figure size 640x480 with 2 Axes>"
      ]
     },
     "metadata": {},
     "output_type": "display_data"
    }
   ],
   "source": [
    "# Matriz de confusión con las clases ordenadas\n",
    "cm = confusion_matrix(y_test, y_pred, labels=[0, 1, 2])\n",
    "\n",
    "# Guardamos las etiquetas reales\n",
    "etiquetas= ['conato', 'incendio', 'gif']\n",
    "\n",
    "# Creamos y mostramos la matriz mediante un mapa de calor\n",
    "sns.heatmap(cm, annot=True, fmt='d', cmap='Blues', xticklabels=etiquetas, yticklabels=etiquetas)\n",
    "plt.xlabel('Predicción')\n",
    "plt.ylabel('Real')\n",
    "plt.title('Matriz de Confusión')\n",
    "plt.show()"
   ]
  },
  {
   "cell_type": "code",
   "execution_count": 19,
   "id": "a7301e3c-424d-4b63-9f61-b0f1f2534d88",
   "metadata": {},
   "outputs": [
    {
     "data": {
      "image/png": "[encoded data removed]",
      "text/plain": [
       "<Figure size 800x600 with 1 Axes>"
      ]
     },
     "metadata": {},
     "output_type": "display_data"
    }
   ],
   "source": [
    "y_pred_prob = lgbm.predict_proba(X_test)\n",
    "\n",
    "# Binarizamos porque es una clasificación multiclase\n",
    "y_test_bin = label_binarize(y_test, classes=[0, 1, 2])\n",
    "\n",
    "# Inicializamos las variables para calcular la curva roc y el auc\n",
    "fpr = {}\n",
    "tpr = {}\n",
    "roc_auc = {}\n",
    "\n",
    "# Dibujamos una curva ROC por cada clase y el calculo del auc\n",
    "for i in range(3):  \n",
    "    fpr[i], tpr[i], _ = roc_curve(y_test_bin[:, i], y_pred_prob[:, i]) \n",
    "    roc_auc[i] = auc(fpr[i], tpr[i])  \n",
    "\n",
    "# Dibujar las curvas \n",
    "plt.figure(figsize=(8, 6))\n",
    "for i in range(3):\n",
    "    plt.plot(fpr[i], tpr[i], lw=2, label=f'ROC curve of class {i} (AUC = {roc_auc[i]:.2f})')\n",
    "\n",
    "# Creamos la diagonal\n",
    "plt.plot([0, 1], [0, 1], color='red', lw=2, linestyle='-')\n",
    "\n",
    "# Configurar el gráfico\n",
    "plt.xlim([0.0, 1.0])\n",
    "plt.ylim([0.0, 1.05])\n",
    "plt.xlabel('Ratio Falsos Positivos')\n",
    "plt.ylabel('Ratio Verdaderos Positivos')\n",
    "plt.title('Curva ROC')\n",
    "plt.legend(loc='lower right')\n",
    "\n",
    "# Mostrar el gráfico\n",
    "plt.show()"
   ]
  },
  {
   "cell_type": "markdown",
   "id": "e7531aaf-c6b2-42de-966b-4c27af7a0dea",
   "metadata": {},
   "source": [
    "### Mejora con optuna"
   ]
  },
  {
   "cell_type": "code",
   "execution_count": 20,
   "id": "6d39291b-da52-4510-9477-837d7480bb31",
   "metadata": {},
   "outputs": [
    {
     "name": "stderr",
     "output_type": "stream",
     "text": [
      "[I 2024-12-29 14:19:35,573] A new study created in memory with name: no-name-59ace2ca-07bd-4e68-b761-2d983a112279\n"
     ]
    },
    {
     "name": "stdout",
     "output_type": "stream",
     "text": [
      "Training until validation scores don't improve for 50 rounds\n",
      "Did not meet early stopping. Best iteration is:\n",
      "[10000]\tvalid_0's multi_logloss: 0.582238\n"
     ]
    },
    {
     "name": "stderr",
     "output_type": "stream",
     "text": [
      "[I 2024-12-29 14:19:42,649] Trial 0 finished with value: 0.7834309795009912 and parameters: {'learning_rate': 0.00030924270111493303, 'num_leaves': 89, 'max_depth': 2, 'min_child_samples': 95, 'subsample': 0.8850426960221294, 'colsample_bytree': 0.7130226009882425}. Best is trial 0 with value: 0.7834309795009912.\n"
     ]
    },
    {
     "name": "stdout",
     "output_type": "stream",
     "text": [
      "Training until validation scores don't improve for 50 rounds\n",
      "Did not meet early stopping. Best iteration is:\n",
      "[10000]\tvalid_0's multi_logloss: 0.581655\n"
     ]
    },
    {
     "name": "stderr",
     "output_type": "stream",
     "text": [
      "[I 2024-12-29 14:20:14,494] Trial 1 finished with value: 0.8101019631305726 and parameters: {'learning_rate': 0.0001153120815703766, 'num_leaves': 134, 'max_depth': 6, 'min_child_samples': 43, 'subsample': 0.7019807797236957, 'colsample_bytree': 0.8775538322644705}. Best is trial 1 with value: 0.8101019631305726.\n"
     ]
    },
    {
     "name": "stdout",
     "output_type": "stream",
     "text": [
      "Training until validation scores don't improve for 50 rounds\n",
      "Early stopping, best iteration is:\n",
      "[7460]\tvalid_0's multi_logloss: 0.376306\n"
     ]
    },
    {
     "name": "stderr",
     "output_type": "stream",
     "text": [
      "[I 2024-12-29 14:20:36,280] Trial 2 finished with value: 0.8416914471529156 and parameters: {'learning_rate': 0.0014934696042727515, 'num_leaves': 233, 'max_depth': 7, 'min_child_samples': 59, 'subsample': 0.9840393647841938, 'colsample_bytree': 0.7926457973154757}. Best is trial 2 with value: 0.8416914471529156.\n"
     ]
    },
    {
     "name": "stdout",
     "output_type": "stream",
     "text": [
      "Training until validation scores don't improve for 50 rounds\n"
     ]
    },
    {
     "name": "stderr",
     "output_type": "stream",
     "text": [
      "[I 2024-12-29 14:20:38,389] Trial 3 finished with value: 0.8413984040928043 and parameters: {'learning_rate': 0.04118316821603004, 'num_leaves': 209, 'max_depth': -1, 'min_child_samples': 39, 'subsample': 0.8115002936586153, 'colsample_bytree': 0.7780200300461197}. Best is trial 2 with value: 0.8416914471529156.\n"
     ]
    },
    {
     "name": "stdout",
     "output_type": "stream",
     "text": [
      "Early stopping, best iteration is:\n",
      "[126]\tvalid_0's multi_logloss: 0.376982\n",
      "Training until validation scores don't improve for 50 rounds\n"
     ]
    },
    {
     "name": "stderr",
     "output_type": "stream",
     "text": [
      "[I 2024-12-29 14:20:39,723] Trial 4 finished with value: 0.849130177901508 and parameters: {'learning_rate': 0.031017613934890886, 'num_leaves': 119, 'max_depth': 6, 'min_child_samples': 32, 'subsample': 0.7008463010272262, 'colsample_bytree': 0.8008328055586197}. Best is trial 4 with value: 0.849130177901508.\n"
     ]
    },
    {
     "name": "stdout",
     "output_type": "stream",
     "text": [
      "Early stopping, best iteration is:\n",
      "[429]\tvalid_0's multi_logloss: 0.376753\n",
      "Training until validation scores don't improve for 50 rounds\n",
      "Did not meet early stopping. Best iteration is:\n",
      "[10000]\tvalid_0's multi_logloss: 0.564221\n"
     ]
    },
    {
     "name": "stderr",
     "output_type": "stream",
     "text": [
      "[I 2024-12-29 14:21:15,167] Trial 5 finished with value: 0.8235982053888907 and parameters: {'learning_rate': 0.00013011558689835875, 'num_leaves': 74, 'max_depth': 7, 'min_child_samples': 64, 'subsample': 0.5825732360097104, 'colsample_bytree': 0.5876589895955653}. Best is trial 4 with value: 0.849130177901508.\n"
     ]
    },
    {
     "name": "stdout",
     "output_type": "stream",
     "text": [
      "Training until validation scores don't improve for 50 rounds\n"
     ]
    },
    {
     "name": "stderr",
     "output_type": "stream",
     "text": [
      "[I 2024-12-29 14:21:16,425] Trial 6 finished with value: 0.844219996224786 and parameters: {'learning_rate': 0.04553095465660084, 'num_leaves': 235, 'max_depth': 14, 'min_child_samples': 76, 'subsample': 0.6845645876663113, 'colsample_bytree': 0.6949923998729262}. Best is trial 4 with value: 0.849130177901508.\n"
     ]
    },
    {
     "name": "stdout",
     "output_type": "stream",
     "text": [
      "Early stopping, best iteration is:\n",
      "[195]\tvalid_0's multi_logloss: 0.367262\n",
      "Training until validation scores don't improve for 50 rounds\n",
      "Early stopping, best iteration is:\n",
      "[864]\tvalid_0's multi_logloss: 0.37851\n"
     ]
    },
    {
     "name": "stderr",
     "output_type": "stream",
     "text": [
      "[I 2024-12-29 14:21:19,107] Trial 7 finished with value: 0.8416199920846853 and parameters: {'learning_rate': 0.014456552901550594, 'num_leaves': 194, 'max_depth': 7, 'min_child_samples': 98, 'subsample': 0.779068997798659, 'colsample_bytree': 0.9966329121873285}. Best is trial 4 with value: 0.849130177901508.\n"
     ]
    },
    {
     "name": "stdout",
     "output_type": "stream",
     "text": [
      "Training until validation scores don't improve for 50 rounds\n",
      "Early stopping, best iteration is:\n",
      "[4894]\tvalid_0's multi_logloss: 0.433693\n"
     ]
    },
    {
     "name": "stderr",
     "output_type": "stream",
     "text": [
      "[I 2024-12-29 14:21:21,754] Trial 8 finished with value: 0.8213237594915972 and parameters: {'learning_rate': 0.027451038316670166, 'num_leaves': 150, 'max_depth': 1, 'min_child_samples': 77, 'subsample': 0.8189996057500103, 'colsample_bytree': 0.6051225361420435}. Best is trial 4 with value: 0.849130177901508.\n"
     ]
    },
    {
     "name": "stdout",
     "output_type": "stream",
     "text": [
      "Training until validation scores don't improve for 50 rounds\n"
     ]
    },
    {
     "name": "stderr",
     "output_type": "stream",
     "text": [
      "[I 2024-12-29 14:21:22,530] Trial 9 finished with value: 0.8384136616956962 and parameters: {'learning_rate': 0.0656158725347705, 'num_leaves': 114, 'max_depth': 8, 'min_child_samples': 61, 'subsample': 0.7132434282254672, 'colsample_bytree': 0.5478061938904853}. Best is trial 4 with value: 0.849130177901508.\n"
     ]
    },
    {
     "name": "stdout",
     "output_type": "stream",
     "text": [
      "Early stopping, best iteration is:\n",
      "[224]\tvalid_0's multi_logloss: 0.364709\n",
      "Training until validation scores don't improve for 50 rounds\n",
      "Early stopping, best iteration is:\n",
      "[2836]\tvalid_0's multi_logloss: 0.376102\n"
     ]
    },
    {
     "name": "stderr",
     "output_type": "stream",
     "text": [
      "[I 2024-12-29 14:21:31,678] Trial 10 finished with value: 0.8424680422192913 and parameters: {'learning_rate': 0.0035856847336244876, 'num_leaves': 32, 'max_depth': 12, 'min_child_samples': 23, 'subsample': 0.504643709761218, 'colsample_bytree': 0.9271079544868392}. Best is trial 4 with value: 0.849130177901508.\n"
     ]
    },
    {
     "name": "stdout",
     "output_type": "stream",
     "text": [
      "Training until validation scores don't improve for 50 rounds\n",
      "Did not meet early stopping. Best iteration is:\n",
      "[10000]\tvalid_0's multi_logloss: 0.965346\n"
     ]
    },
    {
     "name": "stderr",
     "output_type": "stream",
     "text": [
      "[I 2024-12-29 14:24:01,064] Trial 11 finished with value: 0.8354901556741896 and parameters: {'learning_rate': 1.3978102250718018e-05, 'num_leaves': 254, 'max_depth': 14, 'min_child_samples': 21, 'subsample': 0.6327288741812543, 'colsample_bytree': 0.6829242439831562}. Best is trial 4 with value: 0.849130177901508.\n"
     ]
    },
    {
     "name": "stdout",
     "output_type": "stream",
     "text": [
      "Training until validation scores don't improve for 50 rounds\n",
      "Early stopping, best iteration is:\n",
      "[1166]\tvalid_0's multi_logloss: 0.367733\n"
     ]
    },
    {
     "name": "stderr",
     "output_type": "stream",
     "text": [
      "[I 2024-12-29 14:24:06,215] Trial 12 finished with value: 0.8473904684396384 and parameters: {'learning_rate': 0.007483482085915662, 'num_leaves': 171, 'max_depth': 11, 'min_child_samples': 79, 'subsample': 0.6341505845494173, 'colsample_bytree': 0.8375185701787002}. Best is trial 4 with value: 0.849130177901508.\n"
     ]
    },
    {
     "name": "stdout",
     "output_type": "stream",
     "text": [
      "Training until validation scores don't improve for 50 rounds\n",
      "Early stopping, best iteration is:\n",
      "[1817]\tvalid_0's multi_logloss: 0.367737\n"
     ]
    },
    {
     "name": "stderr",
     "output_type": "stream",
     "text": [
      "[I 2024-12-29 14:24:13,226] Trial 13 finished with value: 0.8458213674988441 and parameters: {'learning_rate': 0.004833424276099171, 'num_leaves': 179, 'max_depth': 10, 'min_child_samples': 82, 'subsample': 0.5946630648215276, 'colsample_bytree': 0.8603614698288866}. Best is trial 4 with value: 0.849130177901508.\n"
     ]
    },
    {
     "name": "stdout",
     "output_type": "stream",
     "text": [
      "Training until validation scores don't improve for 50 rounds\n",
      "Early stopping, best iteration is:\n",
      "[2061]\tvalid_0's multi_logloss: 0.385392\n"
     ]
    },
    {
     "name": "stderr",
     "output_type": "stream",
     "text": [
      "[I 2024-12-29 14:24:16,187] Trial 14 finished with value: 0.8384346382097921 and parameters: {'learning_rate': 0.009190489204063132, 'num_leaves': 162, 'max_depth': 4, 'min_child_samples': 42, 'subsample': 0.5293840969074475, 'colsample_bytree': 0.8344032211334825}. Best is trial 4 with value: 0.849130177901508.\n"
     ]
    },
    {
     "name": "stdout",
     "output_type": "stream",
     "text": [
      "Training until validation scores don't improve for 50 rounds\n",
      "Early stopping, best iteration is:\n",
      "[5044]\tvalid_0's multi_logloss: 0.374856\n"
     ]
    },
    {
     "name": "stderr",
     "output_type": "stream",
     "text": [
      "[I 2024-12-29 14:24:44,274] Trial 15 finished with value: 0.8446003677469367 and parameters: {'learning_rate': 0.0013966743592992035, 'num_leaves': 118, 'max_depth': 10, 'min_child_samples': 50, 'subsample': 0.649088964112224, 'colsample_bytree': 0.9252831061025143}. Best is trial 4 with value: 0.849130177901508.\n"
     ]
    },
    {
     "name": "stdout",
     "output_type": "stream",
     "text": [
      "Training until validation scores don't improve for 50 rounds\n"
     ]
    },
    {
     "name": "stderr",
     "output_type": "stream",
     "text": [
      "[I 2024-12-29 14:24:45,031] Trial 16 finished with value: 0.8457101987905461 and parameters: {'learning_rate': 0.09430567460876113, 'num_leaves': 81, 'max_depth': 10, 'min_child_samples': 89, 'subsample': 0.7570896250025261, 'colsample_bytree': 0.7580663719069116}. Best is trial 4 with value: 0.849130177901508.\n"
     ]
    },
    {
     "name": "stdout",
     "output_type": "stream",
     "text": [
      "Early stopping, best iteration is:\n",
      "[140]\tvalid_0's multi_logloss: 0.364516\n",
      "Training until validation scores don't improve for 50 rounds\n",
      "Early stopping, best iteration is:\n",
      "[2487]\tvalid_0's multi_logloss: 0.386902\n"
     ]
    },
    {
     "name": "stderr",
     "output_type": "stream",
     "text": [
      "[I 2024-12-29 14:24:48,714] Trial 17 finished with value: 0.838380204696306 and parameters: {'learning_rate': 0.006864952097622385, 'num_leaves': 173, 'max_depth': 4, 'min_child_samples': 29, 'subsample': 0.8644872344837877, 'colsample_bytree': 0.816456807728797}. Best is trial 4 with value: 0.849130177901508.\n"
     ]
    },
    {
     "name": "stdout",
     "output_type": "stream",
     "text": [
      "Training until validation scores don't improve for 50 rounds\n"
     ]
    },
    {
     "name": "stderr",
     "output_type": "stream",
     "text": [
      "[I 2024-12-29 14:24:50,248] Trial 18 finished with value: 0.847722107626859 and parameters: {'learning_rate': 0.020723845313927108, 'num_leaves': 51, 'max_depth': 11, 'min_child_samples': 71, 'subsample': 0.5825618423630996, 'colsample_bytree': 0.911074842265432}. Best is trial 4 with value: 0.849130177901508.\n"
     ]
    },
    {
     "name": "stdout",
     "output_type": "stream",
     "text": [
      "Early stopping, best iteration is:\n",
      "[356]\tvalid_0's multi_logloss: 0.371748\n",
      "Training until validation scores don't improve for 50 rounds\n"
     ]
    },
    {
     "name": "stderr",
     "output_type": "stream",
     "text": [
      "[I 2024-12-29 14:24:52,174] Trial 19 finished with value: 0.8446250173034319 and parameters: {'learning_rate': 0.020283353020988312, 'num_leaves': 52, 'max_depth': 15, 'min_child_samples': 67, 'subsample': 0.5684720060816393, 'colsample_bytree': 0.9980282797670067}. Best is trial 4 with value: 0.849130177901508.\n"
     ]
    },
    {
     "name": "stdout",
     "output_type": "stream",
     "text": [
      "Early stopping, best iteration is:\n",
      "[415]\tvalid_0's multi_logloss: 0.376544\n",
      "Training until validation scores don't improve for 50 rounds\n",
      "Early stopping, best iteration is:\n",
      "[6815]\tvalid_0's multi_logloss: 0.380926\n"
     ]
    },
    {
     "name": "stderr",
     "output_type": "stream",
     "text": [
      "[I 2024-12-29 14:25:06,171] Trial 20 finished with value: 0.8404596131576021 and parameters: {'learning_rate': 0.0025191573234297185, 'num_leaves': 31, 'max_depth': 5, 'min_child_samples': 51, 'subsample': 0.5477996755243506, 'colsample_bytree': 0.9100313987970639}. Best is trial 4 with value: 0.849130177901508.\n"
     ]
    },
    {
     "name": "stdout",
     "output_type": "stream",
     "text": [
      "Training until validation scores don't improve for 50 rounds\n",
      "Early stopping, best iteration is:\n",
      "[651]\tvalid_0's multi_logloss: 0.368274\n"
     ]
    },
    {
     "name": "stderr",
     "output_type": "stream",
     "text": [
      "[I 2024-12-29 14:25:09,622] Trial 21 finished with value: 0.8430390301445237 and parameters: {'learning_rate': 0.012935441108027485, 'num_leaves': 105, 'max_depth': 12, 'min_child_samples': 71, 'subsample': 0.6205789696065661, 'colsample_bytree': 0.8780602153626368}. Best is trial 4 with value: 0.849130177901508.\n"
     ]
    },
    {
     "name": "stdout",
     "output_type": "stream",
     "text": [
      "Training until validation scores don't improve for 50 rounds\n",
      "Did not meet early stopping. Best iteration is:\n",
      "[10000]\tvalid_0's multi_logloss: 0.390184\n"
     ]
    },
    {
     "name": "stderr",
     "output_type": "stream",
     "text": [
      "[I 2024-12-29 14:25:58,877] Trial 22 finished with value: 0.8443429791096304 and parameters: {'learning_rate': 0.0004314034039200303, 'num_leaves': 143, 'max_depth': 12, 'min_child_samples': 86, 'subsample': 0.672034156685721, 'colsample_bytree': 0.9466545232616461}. Best is trial 4 with value: 0.849130177901508.\n"
     ]
    },
    {
     "name": "stdout",
     "output_type": "stream",
     "text": [
      "Training until validation scores don't improve for 50 rounds\n"
     ]
    },
    {
     "name": "stderr",
     "output_type": "stream",
     "text": [
      "[I 2024-12-29 14:26:00,372] Trial 23 finished with value: 0.8387929485814279 and parameters: {'learning_rate': 0.024470285308998096, 'num_leaves': 63, 'max_depth': 9, 'min_child_samples': 55, 'subsample': 0.7257326849874661, 'colsample_bytree': 0.7314080524671944}. Best is trial 4 with value: 0.849130177901508.\n"
     ]
    },
    {
     "name": "stdout",
     "output_type": "stream",
     "text": [
      "Early stopping, best iteration is:\n",
      "[370]\tvalid_0's multi_logloss: 0.374791\n",
      "Training until validation scores don't improve for 50 rounds\n",
      "Early stopping, best iteration is:\n",
      "[1241]\tvalid_0's multi_logloss: 0.368451\n"
     ]
    },
    {
     "name": "stderr",
     "output_type": "stream",
     "text": [
      "[I 2024-12-29 14:26:06,431] Trial 24 finished with value: 0.843803926664482 and parameters: {'learning_rate': 0.007124703569498998, 'num_leaves': 130, 'max_depth': 11, 'min_child_samples': 73, 'subsample': 0.6133594222806752, 'colsample_bytree': 0.8184795964304756}. Best is trial 4 with value: 0.849130177901508.\n"
     ]
    },
    {
     "name": "stdout",
     "output_type": "stream",
     "text": [
      "Training until validation scores don't improve for 50 rounds\n"
     ]
    },
    {
     "name": "stderr",
     "output_type": "stream",
     "text": [
      "[I 2024-12-29 14:26:07,052] Trial 25 finished with value: 0.8500165363793041 and parameters: {'learning_rate': 0.08788763355132749, 'num_leaves': 92, 'max_depth': 9, 'min_child_samples': 80, 'subsample': 0.663680298413851, 'colsample_bytree': 0.8505091911237441}. Best is trial 25 with value: 0.8500165363793041.\n"
     ]
    },
    {
     "name": "stdout",
     "output_type": "stream",
     "text": [
      "Early stopping, best iteration is:\n",
      "[119]\tvalid_0's multi_logloss: 0.371645\n",
      "Training until validation scores don't improve for 50 rounds\n"
     ]
    },
    {
     "name": "stderr",
     "output_type": "stream",
     "text": [
      "[I 2024-12-29 14:26:07,678] Trial 26 finished with value: 0.8399742093755306 and parameters: {'learning_rate': 0.09566228924793395, 'num_leaves': 92, 'max_depth': 8, 'min_child_samples': 33, 'subsample': 0.6662442882791112, 'colsample_bytree': 0.9617688922616219}. Best is trial 25 with value: 0.8500165363793041.\n"
     ]
    },
    {
     "name": "stdout",
     "output_type": "stream",
     "text": [
      "Early stopping, best iteration is:\n",
      "[72]\tvalid_0's multi_logloss: 0.382069\n",
      "Training until validation scores don't improve for 50 rounds\n"
     ]
    },
    {
     "name": "stderr",
     "output_type": "stream",
     "text": [
      "[I 2024-12-29 14:26:08,456] Trial 27 finished with value: 0.8427901176493106 and parameters: {'learning_rate': 0.048540334717922774, 'num_leaves': 53, 'max_depth': 5, 'min_child_samples': 90, 'subsample': 0.737849913164992, 'colsample_bytree': 0.6469243005377725}. Best is trial 25 with value: 0.8500165363793041.\n"
     ]
    },
    {
     "name": "stdout",
     "output_type": "stream",
     "text": [
      "Early stopping, best iteration is:\n",
      "[428]\tvalid_0's multi_logloss: 0.374132\n",
      "Training until validation scores don't improve for 50 rounds\n"
     ]
    },
    {
     "name": "stderr",
     "output_type": "stream",
     "text": [
      "[I 2024-12-29 14:26:09,848] Trial 28 finished with value: 0.8461237283025541 and parameters: {'learning_rate': 0.030007122114318704, 'num_leaves': 69, 'max_depth': 9, 'min_child_samples': 69, 'subsample': 0.7747801403321284, 'colsample_bytree': 0.8795140327984371}. Best is trial 25 with value: 0.8500165363793041.\n"
     ]
    },
    {
     "name": "stdout",
     "output_type": "stream",
     "text": [
      "Early stopping, best iteration is:\n",
      "[268]\tvalid_0's multi_logloss: 0.373338\n",
      "Training until validation scores don't improve for 50 rounds\n",
      "Did not meet early stopping. Best iteration is:\n",
      "[10000]\tvalid_0's multi_logloss: 0.490241\n"
     ]
    },
    {
     "name": "stderr",
     "output_type": "stream",
     "text": [
      "[I 2024-12-29 14:26:23,231] Trial 29 finished with value: 0.8119284224164276 and parameters: {'learning_rate': 0.00038934866916779873, 'num_leaves': 101, 'max_depth': 3, 'min_child_samples': 94, 'subsample': 0.9120124769524783, 'colsample_bytree': 0.7835203996314369}. Best is trial 25 with value: 0.8500165363793041.\n"
     ]
    },
    {
     "name": "stdout",
     "output_type": "stream",
     "text": [
      "Training until validation scores don't improve for 50 rounds\n",
      "Did not meet early stopping. Best iteration is:\n",
      "[10000]\tvalid_0's multi_logloss: 1.05892\n"
     ]
    },
    {
     "name": "stderr",
     "output_type": "stream",
     "text": [
      "[I 2024-12-29 14:26:28,185] Trial 30 finished with value: 0.6330405404014451 and parameters: {'learning_rate': 1.0388117494411115e-05, 'num_leaves': 90, 'max_depth': 1, 'min_child_samples': 86, 'subsample': 0.562020674442044, 'colsample_bytree': 0.7374141651796224}. Best is trial 25 with value: 0.8500165363793041.\n"
     ]
    },
    {
     "name": "stdout",
     "output_type": "stream",
     "text": [
      "Training until validation scores don't improve for 50 rounds\n",
      "Early stopping, best iteration is:\n",
      "[680]\tvalid_0's multi_logloss: 0.366153\n"
     ]
    },
    {
     "name": "stderr",
     "output_type": "stream",
     "text": [
      "[I 2024-12-29 14:26:31,145] Trial 31 finished with value: 0.8467834717834718 and parameters: {'learning_rate': 0.014139127482726948, 'num_leaves': 119, 'max_depth': 11, 'min_child_samples': 79, 'subsample': 0.6413273816037046, 'colsample_bytree': 0.8457568534500961}. Best is trial 25 with value: 0.8500165363793041.\n"
     ]
    },
    {
     "name": "stdout",
     "output_type": "stream",
     "text": [
      "Training until validation scores don't improve for 50 rounds\n"
     ]
    },
    {
     "name": "stderr",
     "output_type": "stream",
     "text": [
      "[I 2024-12-29 14:26:31,912] Trial 32 finished with value: 0.8414402672638189 and parameters: {'learning_rate': 0.0628575317475971, 'num_leaves': 155, 'max_depth': 9, 'min_child_samples': 80, 'subsample': 0.7001323352124003, 'colsample_bytree': 0.8884932957246976}. Best is trial 25 with value: 0.8500165363793041.\n"
     ]
    },
    {
     "name": "stdout",
     "output_type": "stream",
     "text": [
      "Early stopping, best iteration is:\n",
      "[149]\tvalid_0's multi_logloss: 0.37102\n",
      "Training until validation scores don't improve for 50 rounds\n",
      "Did not meet early stopping. Best iteration is:\n",
      "[10000]\tvalid_0's multi_logloss: 0.366594\n"
     ]
    },
    {
     "name": "stderr",
     "output_type": "stream",
     "text": [
      "[I 2024-12-29 14:27:19,363] Trial 33 finished with value: 0.8441884733224329 and parameters: {'learning_rate': 0.0007702821083359912, 'num_leaves': 131, 'max_depth': 13, 'min_child_samples': 74, 'subsample': 0.6670831439848339, 'colsample_bytree': 0.8091420820468271}. Best is trial 25 with value: 0.8500165363793041.\n"
     ]
    },
    {
     "name": "stdout",
     "output_type": "stream",
     "text": [
      "Training until validation scores don't improve for 50 rounds\n",
      "Early stopping, best iteration is:\n",
      "[5407]\tvalid_0's multi_logloss: 0.378658\n"
     ]
    },
    {
     "name": "stderr",
     "output_type": "stream",
     "text": [
      "[I 2024-12-29 14:27:31,452] Trial 34 finished with value: 0.8467165220204457 and parameters: {'learning_rate': 0.002416502882818969, 'num_leaves': 50, 'max_depth': 6, 'min_child_samples': 65, 'subsample': 0.5923386905236493, 'colsample_bytree': 0.8477789161500376}. Best is trial 25 with value: 0.8500165363793041.\n"
     ]
    },
    {
     "name": "stdout",
     "output_type": "stream",
     "text": [
      "Training until validation scores don't improve for 50 rounds\n"
     ]
    },
    {
     "name": "stderr",
     "output_type": "stream",
     "text": [
      "[I 2024-12-29 14:27:32,471] Trial 35 finished with value: 0.8423080908884036 and parameters: {'learning_rate': 0.03365390872263783, 'num_leaves': 202, 'max_depth': 8, 'min_child_samples': 83, 'subsample': 0.6165766106669617, 'colsample_bytree': 0.9080379709439528}. Best is trial 25 with value: 0.8500165363793041.\n"
     ]
    },
    {
     "name": "stdout",
     "output_type": "stream",
     "text": [
      "Early stopping, best iteration is:\n",
      "[283]\tvalid_0's multi_logloss: 0.370302\n",
      "Training until validation scores don't improve for 50 rounds\n",
      "Early stopping, best iteration is:\n",
      "[455]\tvalid_0's multi_logloss: 0.370456\n"
     ]
    },
    {
     "name": "stderr",
     "output_type": "stream",
     "text": [
      "[I 2024-12-29 14:27:35,000] Trial 36 finished with value: 0.8467318180386839 and parameters: {'learning_rate': 0.016624848387311826, 'num_leaves': 181, 'max_depth': 11, 'min_child_samples': 58, 'subsample': 0.7040474362115522, 'colsample_bytree': 0.7948095675714744}. Best is trial 25 with value: 0.8500165363793041.\n"
     ]
    },
    {
     "name": "stdout",
     "output_type": "stream",
     "text": [
      "Training until validation scores don't improve for 50 rounds\n",
      "Did not meet early stopping. Best iteration is:\n",
      "[10000]\tvalid_0's multi_logloss: 0.850653\n"
     ]
    },
    {
     "name": "stderr",
     "output_type": "stream",
     "text": [
      "[I 2024-12-29 14:28:06,694] Trial 37 finished with value: 0.806602052191364 and parameters: {'learning_rate': 3.289214385792573e-05, 'num_leaves': 101, 'max_depth': 6, 'min_child_samples': 36, 'subsample': 0.5025607163046264, 'colsample_bytree': 0.7709714180551791}. Best is trial 25 with value: 0.8500165363793041.\n"
     ]
    },
    {
     "name": "stdout",
     "output_type": "stream",
     "text": [
      "Training until validation scores don't improve for 50 rounds\n",
      "Early stopping, best iteration is:\n",
      "[593]\tvalid_0's multi_logloss: 0.370818\n"
     ]
    },
    {
     "name": "stderr",
     "output_type": "stream",
     "text": [
      "[I 2024-12-29 14:28:11,152] Trial 38 finished with value: 0.8484395830134277 and parameters: {'learning_rate': 0.010206803445849358, 'num_leaves': 219, 'max_depth': 13, 'min_child_samples': 46, 'subsample': 0.9864611423679378, 'colsample_bytree': 0.8629620194950589}. Best is trial 25 with value: 0.8500165363793041.\n"
     ]
    },
    {
     "name": "stdout",
     "output_type": "stream",
     "text": [
      "Training until validation scores don't improve for 50 rounds\n",
      "Did not meet early stopping. Best iteration is:\n",
      "[10000]\tvalid_0's multi_logloss: 0.545324\n"
     ]
    },
    {
     "name": "stderr",
     "output_type": "stream",
     "text": [
      "[I 2024-12-29 14:29:31,124] Trial 39 finished with value: 0.818815993365872 and parameters: {'learning_rate': 0.00012277706046308348, 'num_leaves': 230, 'max_depth': 13, 'min_child_samples': 46, 'subsample': 0.9972250866798198, 'colsample_bytree': 0.9734606997375084}. Best is trial 25 with value: 0.8500165363793041.\n"
     ]
    },
    {
     "name": "stdout",
     "output_type": "stream",
     "text": [
      "Training until validation scores don't improve for 50 rounds\n"
     ]
    },
    {
     "name": "stderr",
     "output_type": "stream",
     "text": [
      "[I 2024-12-29 14:29:32,852] Trial 40 finished with value: 0.8473538860629831 and parameters: {'learning_rate': 0.04758209568847016, 'num_leaves': 217, 'max_depth': 15, 'min_child_samples': 28, 'subsample': 0.9521623938216526, 'colsample_bytree': 0.5027290661680679}. Best is trial 25 with value: 0.8500165363793041.\n"
     ]
    },
    {
     "name": "stdout",
     "output_type": "stream",
     "text": [
      "Early stopping, best iteration is:\n",
      "[123]\tvalid_0's multi_logloss: 0.366142\n",
      "Training until validation scores don't improve for 50 rounds\n",
      "Early stopping, best iteration is:\n",
      "[547]\tvalid_0's multi_logloss: 0.372703\n"
     ]
    },
    {
     "name": "stderr",
     "output_type": "stream",
     "text": [
      "[I 2024-12-29 14:29:37,734] Trial 41 finished with value: 0.8460452394300836 and parameters: {'learning_rate': 0.010794894235302936, 'num_leaves': 255, 'max_depth': 13, 'min_child_samples': 40, 'subsample': 0.8073334841236526, 'colsample_bytree': 0.8592370571085635}. Best is trial 25 with value: 0.8500165363793041.\n"
     ]
    },
    {
     "name": "stdout",
     "output_type": "stream",
     "text": [
      "Training until validation scores don't improve for 50 rounds\n",
      "Early stopping, best iteration is:\n",
      "[1348]\tvalid_0's multi_logloss: 0.37252\n"
     ]
    },
    {
     "name": "stderr",
     "output_type": "stream",
     "text": [
      "[I 2024-12-29 14:29:46,126] Trial 42 finished with value: 0.8477075627943608 and parameters: {'learning_rate': 0.005039911231418175, 'num_leaves': 189, 'max_depth': 14, 'min_child_samples': 61, 'subsample': 0.6809015068781743, 'colsample_bytree': 0.8971889837324243}. Best is trial 25 with value: 0.8500165363793041.\n"
     ]
    },
    {
     "name": "stdout",
     "output_type": "stream",
     "text": [
      "Training until validation scores don't improve for 50 rounds\n",
      "Early stopping, best iteration is:\n",
      "[1540]\tvalid_0's multi_logloss: 0.370231\n"
     ]
    },
    {
     "name": "stderr",
     "output_type": "stream",
     "text": [
      "[I 2024-12-29 14:29:55,881] Trial 43 finished with value: 0.8495401414043978 and parameters: {'learning_rate': 0.004377611527407171, 'num_leaves': 198, 'max_depth': 14, 'min_child_samples': 60, 'subsample': 0.6921399516559334, 'colsample_bytree': 0.8991412884248348}. Best is trial 25 with value: 0.8500165363793041.\n"
     ]
    },
    {
     "name": "stdout",
     "output_type": "stream",
     "text": [
      "Training until validation scores don't improve for 50 rounds\n"
     ]
    },
    {
     "name": "stderr",
     "output_type": "stream",
     "text": [
      "[I 2024-12-29 14:29:58,267] Trial 44 finished with value: 0.8529399715822682 and parameters: {'learning_rate': 0.02184757982797271, 'num_leaves': 222, 'max_depth': 14, 'min_child_samples': 52, 'subsample': 0.8444314425151311, 'colsample_bytree': 0.9294851722869432}. Best is trial 44 with value: 0.8529399715822682.\n"
     ]
    },
    {
     "name": "stdout",
     "output_type": "stream",
     "text": [
      "Early stopping, best iteration is:\n",
      "[283]\tvalid_0's multi_logloss: 0.370911\n",
      "Training until validation scores don't improve for 50 rounds\n",
      "Early stopping, best iteration is:\n",
      "[1919]\tvalid_0's multi_logloss: 0.376327\n"
     ]
    },
    {
     "name": "stderr",
     "output_type": "stream",
     "text": [
      "[I 2024-12-29 14:30:14,122] Trial 45 finished with value: 0.8502246889141953 and parameters: {'learning_rate': 0.0031989684448164805, 'num_leaves': 219, 'max_depth': 15, 'min_child_samples': 48, 'subsample': 0.8592438877285249, 'colsample_bytree': 0.9493314382868507}. Best is trial 44 with value: 0.8529399715822682.\n"
     ]
    },
    {
     "name": "stdout",
     "output_type": "stream",
     "text": [
      "Training until validation scores don't improve for 50 rounds\n",
      "Early stopping, best iteration is:\n",
      "[2233]\tvalid_0's multi_logloss: 0.375001\n"
     ]
    },
    {
     "name": "stderr",
     "output_type": "stream",
     "text": [
      "[I 2024-12-29 14:30:29,467] Trial 46 finished with value: 0.8507777785892889 and parameters: {'learning_rate': 0.0029390123918052492, 'num_leaves': 236, 'max_depth': 15, 'min_child_samples': 54, 'subsample': 0.8643363490487924, 'colsample_bytree': 0.9527757519591853}. Best is trial 44 with value: 0.8529399715822682.\n"
     ]
    },
    {
     "name": "stdout",
     "output_type": "stream",
     "text": [
      "Training until validation scores don't improve for 50 rounds\n",
      "Early stopping, best iteration is:\n",
      "[3202]\tvalid_0's multi_logloss: 0.372662\n"
     ]
    },
    {
     "name": "stderr",
     "output_type": "stream",
     "text": [
      "[I 2024-12-29 14:30:51,356] Trial 47 finished with value: 0.8494874839494845 and parameters: {'learning_rate': 0.00201596712333218, 'num_leaves': 228, 'max_depth': 15, 'min_child_samples': 54, 'subsample': 0.8490823949940783, 'colsample_bytree': 0.9515754938076566}. Best is trial 44 with value: 0.8529399715822682.\n"
     ]
    },
    {
     "name": "stdout",
     "output_type": "stream",
     "text": [
      "Training until validation scores don't improve for 50 rounds\n",
      "Early stopping, best iteration is:\n",
      "[5128]\tvalid_0's multi_logloss: 0.379961\n"
     ]
    },
    {
     "name": "stderr",
     "output_type": "stream",
     "text": [
      "[I 2024-12-29 14:31:30,742] Trial 48 finished with value: 0.8384877762935612 and parameters: {'learning_rate': 0.0010964724978167824, 'num_leaves': 246, 'max_depth': 14, 'min_child_samples': 47, 'subsample': 0.9106831815637936, 'colsample_bytree': 0.9740579479454899}. Best is trial 44 with value: 0.8529399715822682.\n"
     ]
    },
    {
     "name": "stdout",
     "output_type": "stream",
     "text": [
      "Training until validation scores don't improve for 50 rounds\n",
      "Early stopping, best iteration is:\n",
      "[8789]\tvalid_0's multi_logloss: 0.373994\n"
     ]
    },
    {
     "name": "stderr",
     "output_type": "stream",
     "text": [
      "[I 2024-12-29 14:32:33,946] Trial 49 finished with value: 0.8473569836659635 and parameters: {'learning_rate': 0.000695529232454341, 'num_leaves': 209, 'max_depth': 15, 'min_child_samples': 55, 'subsample': 0.8358730592758791, 'colsample_bytree': 0.9366839194727923}. Best is trial 44 with value: 0.8529399715822682.\n"
     ]
    }
   ],
   "source": [
    "def objective(trial):\n",
    "    param = {\n",
    "        'objective': 'multiclass',\n",
    "        'metric': 'multi_logloss',\n",
    "        'n_estimators': 10000,\n",
    "        'learning_rate': trial.suggest_float('learning_rate', 1e-5, 0.1, log=True),\n",
    "        'num_leaves': trial.suggest_int('num_leaves', 31, 255),\n",
    "        'max_depth': trial.suggest_int('max_depth', -1, 15),\n",
    "        'min_child_samples': trial.suggest_int('min_child_samples', 20, 100),\n",
    "        'subsample': trial.suggest_float('subsample', 0.5, 1.0),\n",
    "        'colsample_bytree': trial.suggest_float('colsample_bytree', 0.5, 1.0),\n",
    "        'num_class': 3,\n",
    "        'random_state': 42,\n",
    "        'verbose': -1,\n",
    "    }\n",
    "\n",
    "    model = lgb.LGBMClassifier(**param)\n",
    "    \n",
    "    model.fit(\n",
    "    X_train, \n",
    "    y_train,\n",
    "    eval_set=[(X_test, y_test)],\n",
    "    eval_metric='multi_logloss',\n",
    "    callbacks=[lgb.early_stopping(stopping_rounds=50)])\n",
    "\n",
    "    preds = model.predict(X_test)\n",
    "    f1 = f1_score(y_test, preds, average='macro')\n",
    "    return f1\n",
    "\n",
    "study = optuna.create_study(direction='maximize')\n",
    "\n",
    "study.optimize(objective, n_trials=50)"
   ]
  },
  {
   "cell_type": "code",
   "execution_count": 21,
   "id": "97281ed5-c5a0-4dc3-868e-06975e3cbdb2",
   "metadata": {},
   "outputs": [
    {
     "name": "stdout",
     "output_type": "stream",
     "text": [
      "Mejor valor objetivo: 0.8529399715822682\n",
      "Mejores hiperparámetros: {'learning_rate': 0.02184757982797271, 'num_leaves': 222, 'max_depth': 14, 'min_child_samples': 52, 'subsample': 0.8444314425151311, 'colsample_bytree': 0.9294851722869432}\n",
      "              precision    recall  f1-score   support\n",
      "\n",
      "           0       0.92      0.93      0.93       629\n",
      "           1       0.87      0.80      0.83       628\n",
      "           2       0.73      0.81      0.77       393\n",
      "\n",
      "    accuracy                           0.85      1650\n",
      "   macro avg       0.84      0.85      0.84      1650\n",
      "weighted avg       0.86      0.85      0.85      1650\n",
      "\n"
     ]
    }
   ],
   "source": [
    "# Mostrar los mejores resultados\n",
    "print(f\"Mejor valor objetivo: {study.best_value}\")\n",
    "print(f\"Mejores hiperparámetros: {study.best_params}\")\n",
    "\n",
    "# Entrenar el modelo con el mejor\n",
    "best_model = lgb.LGBMClassifier(**study.best_params)\n",
    "\n",
    "best_model.fit(X_train, y_train)\n",
    "y_pred = best_model.predict(X_test)\n",
    "print(classification_report(y_test, y_pred))"
   ]
  },
  {
   "cell_type": "code",
   "execution_count": 22,
   "id": "cb6aefdb-42b0-451c-bdd8-974f4fddcef4",
   "metadata": {},
   "outputs": [
    {
     "data": {
      "image/png": "[encoded data removed]",
      "text/plain": [
       "<Figure size 1000x800 with 1 Axes>"
      ]
     },
     "metadata": {},
     "output_type": "display_data"
    }
   ],
   "source": [
    "cm = confusion_matrix(y_test, y_pred, labels=[0, 1, 2])\n",
    "\n",
    "# Etiquetas de las clases\n",
    "etiquetas = ['conato', 'incendio', 'gif']\n",
    "\n",
    "plt.figure(figsize=(10, 8))\n",
    "\n",
    "# Creamos y mostramos la matriz\n",
    "sns.heatmap(cm, annot=True, fmt=\"d\", cmap=\"Blues\", \n",
    "            xticklabels=etiquetas, yticklabels=etiquetas,\n",
    "            annot_kws={\"size\": 20},cbar=False)\n",
    "\n",
    "plt.title(\"MATRIZ DE CONFUSIÓN\\n LightGBM optimizado con Optuna\", fontsize=26, pad=20)\n",
    "plt.xlabel(\"Predicciones\", fontsize=16)\n",
    "plt.ylabel(\"Valores Reales\", fontsize=16)\n",
    "plt.xticks(rotation=0, fontsize=16)\n",
    "plt.yticks(rotation=0, fontsize=16)\n",
    "\n",
    "# Mostramos la gráfica\n",
    "plt.show()"
   ]
  },
  {
   "cell_type": "code",
   "execution_count": 23,
   "id": "97b7aef9-bc34-4009-aced-501a8b09a184",
   "metadata": {},
   "outputs": [
    {
     "data": {
      "text/plain": [
       "['best_lightGBM_model.pkl']"
      ]
     },
     "execution_count": 23,
     "metadata": {},
     "output_type": "execute_result"
    }
   ],
   "source": [
    "import joblib\n",
    "joblib.dump(best_model, 'best_lightGBM_model.pkl')"
   ]
  },
  {
   "cell_type": "code",
   "execution_count": 24,
   "id": "dd82d3e6-1bfa-472b-ae54-07d2e3b7e2f3",
   "metadata": {},
   "outputs": [
    {
     "name": "stdout",
     "output_type": "stream",
     "text": [
      "Modelo cargado correctamente: LGBMClassifier(colsample_bytree=0.9294851722869432,\n",
      "               learning_rate=0.02184757982797271, max_depth=14,\n",
      "               min_child_samples=52, num_leaves=222,\n",
      "               subsample=0.8444314425151311)\n"
     ]
    }
   ],
   "source": [
    "import joblib\n",
    "\n",
    "# Cargar el modelo desde el archivo .pkl\n",
    "best_model = joblib.load('best_lightGBM_model.pkl')\n",
    "\n",
    "# Verificar si se cargó correctamente (opcional)\n",
    "print(\"Modelo cargado correctamente:\", best_model)"
   ]
  },
  {
   "cell_type": "markdown",
   "id": "2a381b51-94a1-41f2-abee-033b1a18ae7e",
   "metadata": {},
   "source": [
    "@inproceedings{akiba2019optuna,\n",
    "  title={{O}ptuna: A Next-Generation Hyperparameter Optimization Framework},\n",
    "  author={Akiba, Takuya and Sano, Shotaro and Yanase, Toshihiko and Ohta, Takeru and Koyama, Masanori},\n",
    "  booktitle={The 25th ACM SIGKDD International Conference on Knowledge Discovery \\& Data Mining},\n",
    "  pages={2623--2631},\n",
    "  year={2019}\n",
    "}"
   ]
  },
  {
   "cell_type": "markdown",
   "id": "dca33f2e-02fb-450c-a760-aace15b57036",
   "metadata": {},
   "source": [
    "#### Fuentes de datos:\n",
    "\n",
    "1. **AEMET**: Los datos utilizados en este análisis provienen de la **Agencia Estatal de Meteorología (AEMET)**. Los datos están sujetos a las [condiciones de uso de AEMET](https://www.aemet.es/es/portada), y deben ser utilizados con la debida citación.\n",
    "2. **EGIF**: Los datos utilizados en este análisis provienen de la **Estadística General de Incendios Forestales (EGIF)**, gestionada por el **Ministerio para la Transición Ecológica y el Reto Demográfico (MITECO)**. Los datos deben ser utilizados de acuerdo con las [condiciones de uso de la EGIF](https://www.miteco.gob.es/es/biodiversidad/temas/incendios-forestales/estadisticas-datos.aspx).\n",
    "3. **NGMEP (Nomenclátor Geográfico de Municipios y Entidades de Población)**: Los datos utilizados en este análisis provienen del **Nomenclátor Geográfico de Municipios y Entidades de Población (NGMEP)**, proporcionado por el **Centro Nacional de Información Geográfica (CNIG)**. Los datos están sujetos a la licencia de [Datos Abiertos del CNIG](https://astronoomia.ign.es/web/ign/portal). Se debe proporcionar citación adecuada al utilizar los datos.\n",
    "4. **Climate Data Store (CDS)**: Los datos utilizados en este análisis provienen del **Climate Data Store (CDS)**, específicamente del indicador de peligro de incendio **FWI** derivado de proyecciones climáticas para Europa. Los datos están sujetos a la [licencia de uso de CDS](https://cds.climate.copernicus.eu/#!/home), y deben ser utilizados con la debida citación.\n",
    "5. **INE (Instituto Nacional de Estadística)**: Los datos utilizados en este análisis provienen de las **Series de población por provincia (1900-2001)**, las **principales series de población desde 1998** y del **Código INE**. Los datos están sujetos a las [condiciones de uso del INE](https://www.ine.es/jaxiT3/Datos.htm?t=2865), y deben ser utilizados con la debida citación."
   ]
  },
  {
   "cell_type": "code",
   "execution_count": null,
   "id": "3836aad2-4b29-449d-9826-f5fb43c25e95",
   "metadata": {},
   "outputs": [],
   "source": []
  }
 ],
 "metadata": {
  "kernelspec": {
   "display_name": "Python 3 (ipykernel)",
   "language": "python",
   "name": "python3"
  },
  "language_info": {
   "codemirror_mode": {
    "name": "ipython",
    "version": 3
   },
   "file_extension": ".py",
   "mimetype": "text/x-python",
   "name": "python",
   "nbconvert_exporter": "python",
   "pygments_lexer": "ipython3",
   "version": "3.12.3"
  }
 },
 "nbformat": 4,
 "nbformat_minor": 5
}
